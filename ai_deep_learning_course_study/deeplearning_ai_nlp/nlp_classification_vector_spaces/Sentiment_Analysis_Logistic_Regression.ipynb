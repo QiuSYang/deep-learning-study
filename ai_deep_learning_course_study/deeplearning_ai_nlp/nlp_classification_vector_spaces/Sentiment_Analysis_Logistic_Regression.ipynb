{
 "cells": [
  {
   "cell_type": "markdown",
   "metadata": {},
   "source": [
    "# Study target\n",
    "    ## 学习如何构建特征，即如何将文本数据转为计算可识别的向量数据；统计word在正负词表中出现的次数，最后特征为[1-bias, pos_freqs_sum-words在正词表出现的次数之和, neg_freqs_sum-words在负词表出现的次数之和]\n",
    "    ## 学习推导逻辑回归模型，学习使用其进行文本分类"
   ]
  },
  {
   "cell_type": "markdown",
   "metadata": {},
   "source": [
    "# Preprocessing\n",
    "\n",
    "In this lab, we will be exploring how to preprocess tweets for sentiment analysis. We will provide a function for preprocessing tweets during this week's assignment, but it is still good to know what is going on under the hood. By the end of this lecture, you will see how to use the [NLTK](http://www.nltk.org) package to perform a preprocessing pipeline for Twitter datasets."
   ]
  },
  {
   "cell_type": "markdown",
   "metadata": {},
   "source": [
    "## install depend lib"
   ]
  },
  {
   "cell_type": "code",
   "execution_count": 1,
   "metadata": {},
   "outputs": [
    {
     "name": "stdout",
     "output_type": "stream",
     "text": [
      "Requirement already satisfied: nltk in /Users/qiusongyang/opt/miniconda3/envs/torch/lib/python3.7/site-packages (3.6.2)\r\n",
      "Requirement already satisfied: regex in /Users/qiusongyang/opt/miniconda3/envs/torch/lib/python3.7/site-packages (from nltk) (2021.4.4)\r\n",
      "Requirement already satisfied: tqdm in /Users/qiusongyang/opt/miniconda3/envs/torch/lib/python3.7/site-packages (from nltk) (4.61.0)\r\n",
      "Requirement already satisfied: click in /Users/qiusongyang/opt/miniconda3/envs/torch/lib/python3.7/site-packages (from nltk) (7.1.2)\r\n",
      "Requirement already satisfied: joblib in /Users/qiusongyang/opt/miniconda3/envs/torch/lib/python3.7/site-packages (from nltk) (1.0.1)\r\n"
     ]
    }
   ],
   "source": [
    "!pip install nltk "
   ]
  },
  {
   "cell_type": "code",
   "execution_count": 2,
   "metadata": {},
   "outputs": [],
   "source": [
    "import nltk                                # Python library for NLP\n",
    "from nltk.corpus import twitter_samples    # sample Twitter dataset from NLTK\n",
    "import matplotlib.pyplot as plt            # library for visualization\n",
    "import random                              # pseudo-random number generator"
   ]
  },
  {
   "cell_type": "markdown",
   "metadata": {},
   "source": [
    "## About the Twitter dataset\n",
    "\n",
    "The sample dataset from NLTK is separated into positive and negative tweets. It contains 5000 positive tweets and 5000 negative tweets exactly. The exact match between these classes is not a coincidence. The intention is to have a balanced dataset. That does not reflect the real distributions of positive and negative classes in live Twitter streams. It is just because balanced datasets simplify the design of most computational methods that are required for sentiment analysis. However, it is better to be aware that this balance of classes is artificial. \n",
    "\n",
    "The dataset is already downloaded in the Coursera workspace. In a local computer however, you can download the data by doing:"
   ]
  },
  {
   "cell_type": "code",
   "execution_count": 3,
   "metadata": {},
   "outputs": [
    {
     "name": "stderr",
     "output_type": "stream",
     "text": [
      "[nltk_data] Downloading package twitter_samples to\n",
      "[nltk_data]     /Users/qiusongyang/nltk_data...\n",
      "[nltk_data]   Package twitter_samples is already up-to-date!\n"
     ]
    },
    {
     "data": {
      "text/plain": [
       "True"
      ]
     },
     "execution_count": 3,
     "metadata": {},
     "output_type": "execute_result"
    }
   ],
   "source": [
    "# downloads sample twitter dataset. uncomment the line below if running on a local machine.\n",
    "nltk.download('twitter_samples')"
   ]
  },
  {
   "cell_type": "markdown",
   "metadata": {},
   "source": [
    "We can load the text fields of the positive and negative tweets by using the module's `strings()` method like this:"
   ]
  },
  {
   "cell_type": "code",
   "execution_count": 4,
   "metadata": {},
   "outputs": [],
   "source": [
    "# select the set of positive and negative tweets\n",
    "all_positive_tweets = twitter_samples.strings('positive_tweets.json')\n",
    "all_negative_tweets = twitter_samples.strings('negative_tweets.json')"
   ]
  },
  {
   "cell_type": "code",
   "execution_count": 5,
   "metadata": {},
   "outputs": [
    {
     "name": "stdout",
     "output_type": "stream",
     "text": [
      "Number of positive tweets:  5000\n",
      "Number of negative tweets:  5000\n",
      "\n",
      "The type of all_positive_tweets is:  <class 'list'>\n",
      "The type of a tweet entry is:  <class 'str'>\n"
     ]
    }
   ],
   "source": [
    "print('Number of positive tweets: ', len(all_positive_tweets))\n",
    "print('Number of negative tweets: ', len(all_negative_tweets))\n",
    "\n",
    "print('\\nThe type of all_positive_tweets is: ', type(all_positive_tweets))\n",
    "print('The type of a tweet entry is: ', type(all_negative_tweets[0]))"
   ]
  },
  {
   "cell_type": "markdown",
   "metadata": {},
   "source": [
    "We can see that the data is stored in a list and as you might expect, individual tweets are stored as strings.\n",
    "\n",
    "You can make a more visually appealing report by using Matplotlib's [pyplot](https://matplotlib.org/tutorials/introductory/pyplot.html) library. Let us see how to create a [pie chart](https://matplotlib.org/3.2.1/gallery/pie_and_polar_charts/pie_features.html#sphx-glr-gallery-pie-and-polar-charts-pie-features-py) to show the same information as above. This simple snippet will serve you in future visualizations of this kind of data."
   ]
  },
  {
   "cell_type": "code",
   "execution_count": 6,
   "metadata": {},
   "outputs": [
    {
     "data": {
      "text/plain": [
       "(-1.1, 1.1, -1.1, 1.1)"
      ]
     },
     "execution_count": 6,
     "metadata": {},
     "output_type": "execute_result"
    },
    {
     "data": {
      "image/png": "[encoded data removed]",
      "text/plain": [
       "<Figure size 360x360 with 1 Axes>"
      ]
     },
     "metadata": {},
     "output_type": "display_data"
    }
   ],
   "source": [
    "fig=plt.figure(figsize=(5,5))\n",
    "\n",
    "labels=('Positives','Negative')\n",
    "\n",
    "sizes=[len(all_positive_tweets),len(all_negative_tweets)]\n",
    "\n",
    "plt.pie(sizes,labels=labels,autopct='%1.1f%%',\n",
    "        shadow=True, startangle=90)\n",
    "\n",
    "plt.axis('equal')"
   ]
  },
  {
   "cell_type": "markdown",
   "metadata": {},
   "source": [
    "## Looking at raw texts\n",
    "\n",
    "Before anything else, we can print a couple of tweets from the dataset to see how they look. Understanding the data is responsible for 80% of the success or failure in data science projects. We can use this time to observe aspects we'd like to consider when preprocessing our data.\n",
    "\n",
    "Below, you will print one random positive and one random negative tweet. We have added a color mark at the beginning of the string to further distinguish the two."
   ]
  },
  {
   "cell_type": "code",
   "execution_count": 7,
   "metadata": {},
   "outputs": [],
   "source": [
    "import numpy as np "
   ]
  },
  {
   "cell_type": "code",
   "execution_count": 8,
   "metadata": {},
   "outputs": [
    {
     "name": "stdout",
     "output_type": "stream",
     "text": [
      "\u001b[92m@jeremygutsche we like this amazing donut recipe! we share with #foiegras lovers! :)\n",
      "\u001b[91mMy KIK - himseek8 #kik #kiksex #kikmsn #like4like #kissme #akua #hotel :( http://t.co/43zczi7Xly\n"
     ]
    }
   ],
   "source": [
    "np.random.seed(42)\n",
    "\n",
    "# print positive in green\n",
    "print('\\033[92m' + all_positive_tweets[np.random.randint(0,5000)])\n",
    "\n",
    "# print negative in red\n",
    "print('\\033[91m' + all_negative_tweets[np.random.randint(0,5000)])"
   ]
  },
  {
   "cell_type": "markdown",
   "metadata": {},
   "source": [
    "## Preprocess raw text for Sentiment analysis\n",
    "\n",
    "Data preprocessing is one of the critical steps in any machine learning project. It includes cleaning and formatting the data before feeding into a machine learning algorithm. For NLP, the preprocessing steps are comprised of the following tasks:\n",
    "\n",
    "$$important steps:$$\n",
    "\n",
    "* Tokenizing the string\n",
    "* Lowercasing\n",
    "* Removing stop words and punctuation\n",
    "* Stemming\n",
    "\n",
    "The videos explained each of these steps and why they are important. Let's see how we can do these to a given tweet. We will choose just one and see how this is transformed by each preprocessing step."
   ]
  },
  {
   "cell_type": "code",
   "execution_count": 9,
   "metadata": {},
   "outputs": [
    {
     "name": "stdout",
     "output_type": "stream",
     "text": [
      "My beautiful sunflowers on a sunny Friday morning off :) #sunflowers #favourites #happy #Friday off… https://t.co/3tfYom0N1i\n"
     ]
    }
   ],
   "source": [
    "# Our selected sample. Complex enough to exemplify each step\n",
    "tweet = all_positive_tweets[2277]\n",
    "print(tweet)"
   ]
  },
  {
   "cell_type": "code",
   "execution_count": 10,
   "metadata": {},
   "outputs": [
    {
     "name": "stderr",
     "output_type": "stream",
     "text": [
      "[nltk_data] Downloading package stopwords to\n",
      "[nltk_data]     /Users/qiusongyang/nltk_data...\n",
      "[nltk_data]   Package stopwords is already up-to-date!\n"
     ]
    },
    {
     "data": {
      "text/plain": [
       "True"
      ]
     },
     "execution_count": 10,
     "metadata": {},
     "output_type": "execute_result"
    }
   ],
   "source": [
    "# download the stopwords from NLTK\n",
    "nltk.download('stopwords')"
   ]
  },
  {
   "cell_type": "code",
   "execution_count": 11,
   "metadata": {},
   "outputs": [],
   "source": [
    "import re\n",
    "import string\n",
    "\n",
    "from nltk.corpus import stopwords\n",
    "from nltk.stem import PorterStemmer\n",
    "from nltk.tokenize import TweetTokenizer"
   ]
  },
  {
   "cell_type": "markdown",
   "metadata": {},
   "source": [
    "### Remove hyperlinks,  Twitter marks and styles\n",
    "\n",
    "Since we have a Twitter dataset, we'd like to remove some substrings commonly used on the platform like the hashtag, retweet marks, and hyperlinks. We'll use the [re](https://docs.python.org/3/library/re.html) library to perform regular expression operations on our tweet. We'll define our search pattern and use the `sub()` method to remove matches by substituting with an empty character (i.e. `''`)"
   ]
  },
  {
   "cell_type": "code",
   "execution_count": 12,
   "metadata": {},
   "outputs": [
    {
     "name": "stdout",
     "output_type": "stream",
     "text": [
      "\u001b[92mMy beautiful sunflowers on a sunny Friday morning off :) #sunflowers #favourites #happy #Friday off… https://t.co/3tfYom0N1i\n",
      "\u001b[94m\n",
      "My beautiful sunflowers on a sunny Friday morning off :) sunflowers favourites happy Friday off… \n"
     ]
    }
   ],
   "source": [
    "print('\\033[92m' + tweet)\n",
    "print('\\033[94m')\n",
    "\n",
    "# RE\n",
    "\n",
    "# remove old style retweet text \"RT\"\n",
    "tweet2 = re.sub(r'^RT[\\s]+', '', tweet)\n",
    "\n",
    "# remove hpyerlinks\n",
    "tweet2 = re.sub(r'https?:\\/\\/.*[\\r\\n]*', '', tweet2)\n",
    "\n",
    "# remove hashtags\n",
    "# only removing the hash # sign from the word\n",
    "tweet2 = re.sub(r'#', '', tweet2)\n",
    "\n",
    "print(tweet2)"
   ]
  },
  {
   "cell_type": "markdown",
   "metadata": {},
   "source": [
    "### Tokenize the string\n",
    "\n",
    "To tokenize means to split the strings into individual words without blanks or tabs. In this same step, we will also convert each word in the string to lower case. The [tokenize](https://www.nltk.org/api/nltk.tokenize.html#module-nltk.tokenize.casual) module from NLTK allows us to do these easily:"
   ]
  },
  {
   "cell_type": "code",
   "execution_count": 13,
   "metadata": {},
   "outputs": [
    {
     "name": "stdout",
     "output_type": "stream",
     "text": [
      "\n",
      "\u001b[92mMy beautiful sunflowers on a sunny Friday morning off :) sunflowers favourites happy Friday off… \n",
      "\u001b[94m\n",
      "\n",
      "Tokenized string:\n",
      "['my', 'beautiful', 'sunflowers', 'on', 'a', 'sunny', 'friday', 'morning', 'off', ':)', 'sunflowers', 'favourites', 'happy', 'friday', 'off', '…']\n"
     ]
    }
   ],
   "source": [
    "print()\n",
    "print('\\033[92m'+tweet2)\n",
    "print('\\033[94m')\n",
    "\n",
    "# instantiate tokenizer class\n",
    "tokenizer=TweetTokenizer(preserve_case=False,strip_handles=True,\n",
    "                         reduce_len=True)\n",
    "\n",
    "# tokenize tweets\n",
    "tweet_tokens=tokenizer.tokenize(tweet2)\n",
    "\n",
    "print()\n",
    "print('Tokenized string:')\n",
    "print(tweet_tokens)"
   ]
  },
  {
   "cell_type": "markdown",
   "metadata": {},
   "source": [
    "### Remove stop words and punctuations\n",
    "\n",
    "The next step is to remove stop words and punctuation. Stop words are words that don't add significant meaning to the text. You'll see the list provided by NLTK when you run the cells below."
   ]
  },
  {
   "cell_type": "code",
   "execution_count": 14,
   "metadata": {},
   "outputs": [
    {
     "name": "stdout",
     "output_type": "stream",
     "text": [
      "Stop words\n",
      "\n",
      "['i', 'me', 'my', 'myself', 'we', 'our', 'ours', 'ourselves', 'you', \"you're\", \"you've\", \"you'll\", \"you'd\", 'your', 'yours', 'yourself', 'yourselves', 'he', 'him', 'his', 'himself', 'she', \"she's\", 'her', 'hers', 'herself', 'it', \"it's\", 'its', 'itself', 'they', 'them', 'their', 'theirs', 'themselves', 'what', 'which', 'who', 'whom', 'this', 'that', \"that'll\", 'these', 'those', 'am', 'is', 'are', 'was', 'were', 'be', 'been', 'being', 'have', 'has', 'had', 'having', 'do', 'does', 'did', 'doing', 'a', 'an', 'the', 'and', 'but', 'if', 'or', 'because', 'as', 'until', 'while', 'of', 'at', 'by', 'for', 'with', 'about', 'against', 'between', 'into', 'through', 'during', 'before', 'after', 'above', 'below', 'to', 'from', 'up', 'down', 'in', 'out', 'on', 'off', 'over', 'under', 'again', 'further', 'then', 'once', 'here', 'there', 'when', 'where', 'why', 'how', 'all', 'any', 'both', 'each', 'few', 'more', 'most', 'other', 'some', 'such', 'no', 'nor', 'not', 'only', 'own', 'same', 'so', 'than', 'too', 'very', 's', 't', 'can', 'will', 'just', 'don', \"don't\", 'should', \"should've\", 'now', 'd', 'll', 'm', 'o', 're', 've', 'y', 'ain', 'aren', \"aren't\", 'couldn', \"couldn't\", 'didn', \"didn't\", 'doesn', \"doesn't\", 'hadn', \"hadn't\", 'hasn', \"hasn't\", 'haven', \"haven't\", 'isn', \"isn't\", 'ma', 'mightn', \"mightn't\", 'mustn', \"mustn't\", 'needn', \"needn't\", 'shan', \"shan't\", 'shouldn', \"shouldn't\", 'wasn', \"wasn't\", 'weren', \"weren't\", 'won', \"won't\", 'wouldn', \"wouldn't\"]\n",
      "\n",
      "Punctuation\n",
      "\n",
      "!\"#$%&'()*+,-./:;<=>?@[\\]^_`{|}~\n"
     ]
    }
   ],
   "source": [
    "# Import the english stop words list from NLTK\n",
    "stopwords_english=stopwords.words('english')\n",
    "\n",
    "print('Stop words\\n')\n",
    "print(stopwords_english)\n",
    "\n",
    "print('\\nPunctuation\\n')\n",
    "print(string.punctuation)"
   ]
  },
  {
   "cell_type": "markdown",
   "metadata": {},
   "source": [
    "We can see that the stop words list above contains some words that could be important in some contexts. These could be words like i, not, between, because, won, against. You might need to customize the stop words list for some applications. For our exercise, we will use the entire list.\n",
    "\n",
    "For the punctuation, we saw earlier that certain groupings like ':)' and '...' should be retained when dealing with tweets because they are used to express emotions. In other contexts, like medical analysis, these should also be removed.\n",
    "\n",
    "Time to clean up our tokenized tweet!"
   ]
  },
  {
   "cell_type": "code",
   "execution_count": 15,
   "metadata": {},
   "outputs": [
    {
     "name": "stdout",
     "output_type": "stream",
     "text": [
      "\n",
      "\u001b[92m\n",
      "['my', 'beautiful', 'sunflowers', 'on', 'a', 'sunny', 'friday', 'morning', 'off', ':)', 'sunflowers', 'favourites', 'happy', 'friday', 'off', '…']\n",
      "\u001b[94m\n",
      "removed stop words and punctuation:\n",
      "['beautiful', 'sunflowers', 'sunny', 'friday', 'morning', ':)', 'sunflowers', 'favourites', 'happy', 'friday', '…']\n"
     ]
    }
   ],
   "source": [
    "print()\n",
    "print('\\033[92m')\n",
    "print(tweet_tokens)\n",
    "print('\\033[94m')\n",
    "\n",
    "tweets_clean=[]\n",
    "\n",
    "for word in tweet_tokens:\n",
    "    if word not in stopwords_english and word not in string.punctuation:\n",
    "        tweets_clean.append(word)\n",
    "\n",
    "print('removed stop words and punctuation:')\n",
    "print(tweets_clean)"
   ]
  },
  {
   "cell_type": "markdown",
   "metadata": {},
   "source": [
    "### Stemming\n",
    "\n",
    "Stemming is the process of converting a word to its most general form, or stem. This helps in reducing the size of our vocabulary.\n",
    "\n",
    "Consider the words: \n",
    " * **learn**\n",
    " * **learn**ing\n",
    " * **learn**ed\n",
    " * **learn**t\n",
    " \n",
    "All these words are stemmed from its common root **learn**. However, in some cases, the stemming process produces words that are not correct spellings of the root word. For example, **happi** and **sunni**. That's because it chooses the most common stem for related words. For example, we can look at the set of words that comprises the different forms of happy:\n",
    "\n",
    " * **happ**y\n",
    " * **happi**ness\n",
    " * **happi**er\n",
    " \n",
    "We can see that the prefix **happi** is more commonly used. We cannot choose **happ** because it is the stem of unrelated words like **happen**.\n",
    " \n",
    "NLTK has different modules for stemming and we will be using the [PorterStemmer](https://www.nltk.org/api/nltk.stem.html#module-nltk.stem.porter) module which uses the [Porter Stemming Algorithm](https://tartarus.org/martin/PorterStemmer/). Let's see how we can use it in the cell below."
   ]
  },
  {
   "cell_type": "code",
   "execution_count": 16,
   "metadata": {},
   "outputs": [
    {
     "name": "stdout",
     "output_type": "stream",
     "text": [
      "\n",
      "\u001b[92m\n",
      "['beautiful', 'sunflowers', 'sunny', 'friday', 'morning', ':)', 'sunflowers', 'favourites', 'happy', 'friday', '…']\n",
      "\u001b[94m\n",
      "stemmed words:\n",
      "['beauti', 'sunflow', 'sunni', 'friday', 'morn', ':)', 'sunflow', 'favourit', 'happi', 'friday', '…']\n"
     ]
    }
   ],
   "source": [
    "print()\n",
    "print('\\033[92m')\n",
    "print(tweets_clean)\n",
    "print('\\033[94m')\n",
    "\n",
    "# Instantiate stemming class\n",
    "stemmer=PorterStemmer()\n",
    "\n",
    "tweets_stem=[]\n",
    "\n",
    "for word in tweets_clean:\n",
    "    stem_word=stemmer.stem(word)\n",
    "    tweets_stem.append(stem_word)\n",
    "    \n",
    "print('stemmed words:')\n",
    "print(tweets_stem)"
   ]
  },
  {
   "cell_type": "markdown",
   "metadata": {},
   "source": [
    "## process_tweet()\n",
    "\n",
    "As shown above, preprocessing consists of multiple steps before you arrive at the final list of words. We will not ask you to replicate these however. In the week's assignment, you will use the function `process_tweet(tweet)` available in _utils.py_. We encourage you to open the file and you'll see that this function's implementation is very similar to the steps above.\n",
    "\n",
    "To obtain the same result as in the previous code cells, you will only need to call the function `process_tweet()`. Let's do that in the next cell."
   ]
  },
  {
   "cell_type": "code",
   "execution_count": 17,
   "metadata": {},
   "outputs": [],
   "source": [
    "def process_tweet(tweet):\n",
    "    \"\"\"Process tweet function.\n",
    "    Input:\n",
    "        tweet: a string containing a tweet\n",
    "    Output:\n",
    "        tweets_clean: a list of words containing the processed tweet\n",
    "\n",
    "    \"\"\"\n",
    "    # remove stock market tickers like $GE\n",
    "    tweet = re.sub(r'\\$\\w*', '', tweet)\n",
    "    # remove old style retweet text \"RT\"\n",
    "    tweet = re.sub(r'^RT[\\s]+', '', tweet)\n",
    "    # remove hyperlinks\n",
    "    tweet = re.sub(r'https?:\\/\\/.*[\\r\\n]*', '', tweet)\n",
    "    # remove hashtags\n",
    "    # only removing the hash # sign from the word\n",
    "    tweet = re.sub(r'#', '', tweet)\n",
    "    # tokenize tweets\n",
    "    tweet_tokens = tokenizer.tokenize(tweet)\n",
    "\n",
    "    tweets_clean = []\n",
    "    for word in tweet_tokens:\n",
    "        if (word not in stopwords_english and  # remove stopwords\n",
    "                word not in string.punctuation):  # remove punctuation\n",
    "            # tweets_clean.append(word)\n",
    "            stem_word = stemmer.stem(word)  # stemming word\n",
    "            tweets_clean.append(stem_word)\n",
    "\n",
    "    return tweets_clean"
   ]
  },
  {
   "cell_type": "code",
   "execution_count": 18,
   "metadata": {},
   "outputs": [
    {
     "name": "stdout",
     "output_type": "stream",
     "text": [
      "\n",
      "\u001b[92m\n",
      "My beautiful sunflowers on a sunny Friday morning off :) #sunflowers #favourites #happy #Friday off… https://t.co/3tfYom0N1i\n",
      "\u001b[94m\n",
      "preprocessed tweet:\n",
      "['beauti', 'sunflow', 'sunni', 'friday', 'morn', ':)', 'sunflow', 'favourit', 'happi', 'friday', '…']\n"
     ]
    }
   ],
   "source": [
    "# choose the same tweet\n",
    "tweet = all_positive_tweets[2277]\n",
    "\n",
    "print()\n",
    "print('\\033[92m')\n",
    "print(tweet)\n",
    "print('\\033[94m')\n",
    "\n",
    "# call the imported function\n",
    "tweets_stem = process_tweet(tweet); # Preprocess a given tweet\n",
    "\n",
    "print('preprocessed tweet:')\n",
    "print(tweets_stem) # Print the result"
   ]
  },
  {
   "cell_type": "markdown",
   "metadata": {},
   "source": [
    " That's it for this lab! You now know what is going on when you call the preprocessing helper function in this week's assignment. Hopefully, this exercise has also given you some insights on how to tweak this for other types of text datasets."
   ]
  },
  {
   "cell_type": "markdown",
   "metadata": {},
   "source": [
    "# Building and Visualizing word frequencies\n",
    "\n",
    "\n",
    "In this lab, we will focus on the `build_freqs()` helper function and visualizing a dataset fed into it. In our goal of tweet sentiment analysis, this function will build a dictionary where we can lookup how many times a word appears in the lists of positive or negative tweets. This will be very helpful when extracting the features of the dataset in the week's programming assignment. Let's see how this function is implemented under the hood in this notebook."
   ]
  },
  {
   "cell_type": "markdown",
   "metadata": {},
   "source": [
    "## Import some helper functions that we provided in the utils.py file:\n",
    "* `process_tweet()`: Cleans the text, tokenizes it into separate words, removes stopwords, and converts words to stems.\n",
    "* `build_freqs()`: This counts how often a word in the 'corpus' (the entire set of tweets) was associated with a positive label `1` or a negative label `0`. It then builds the `freqs` dictionary, where each key is a `(word,label)` tuple, and the value is the count of its frequency within the corpus of tweets."
   ]
  },
  {
   "cell_type": "code",
   "execution_count": 19,
   "metadata": {},
   "outputs": [
    {
     "name": "stdout",
     "output_type": "stream",
     "text": [
      "Number of tweets:  10000\n"
     ]
    }
   ],
   "source": [
    "# concatenate the lists, 1st part is the positive tweets followed by the negative\n",
    "tweets = all_positive_tweets + all_negative_tweets\n",
    "\n",
    "# let's see how many tweets we have\n",
    "print(\"Number of tweets: \", len(tweets))"
   ]
  },
  {
   "cell_type": "markdown",
   "metadata": {},
   "source": [
    "Next, we will build a labels array that matches the sentiments of our tweets.  This data type works pretty much like a regular list but is optimized for computations and manipulation. The `labels` array will be composed of 10000 elements. The first 5000 will be filled with `1` labels denoting positive sentiments, and the next 5000 will be `0` labels denoting the opposite. We can do this easily with a series of operations provided by the `numpy` library:\n",
    "\n",
    "* `np.ones()` - create an array of 1's\n",
    "* `np.zeros()` - create an array of 0's\n",
    "* `np.append()` - concatenate arrays"
   ]
  },
  {
   "cell_type": "code",
   "execution_count": 20,
   "metadata": {},
   "outputs": [
    {
     "data": {
      "text/plain": [
       "(10000,)"
      ]
     },
     "execution_count": 20,
     "metadata": {},
     "output_type": "execute_result"
    }
   ],
   "source": [
    "labels = np.append(np.ones((len(all_positive_tweets))), np.zeros((len(all_negative_tweets))))\n",
    "labels.shape"
   ]
  },
  {
   "cell_type": "code",
   "execution_count": 21,
   "metadata": {},
   "outputs": [
    {
     "data": {
      "text/plain": [
       "(10000,)"
      ]
     },
     "execution_count": 21,
     "metadata": {},
     "output_type": "execute_result"
    }
   ],
   "source": [
    "np.squeeze(labels).shape"
   ]
  },
  {
   "cell_type": "markdown",
   "metadata": {},
   "source": [
    "## Dictionaries\n",
    "\n",
    "In Python, a dictionary is a mutable and indexed collection. It stores items as key-value pairs and uses [hash tables](https://en.wikipedia.org/wiki/Hash_table) underneath to allow practically constant time lookups. In NLP, dictionaries are essential because it enables fast retrieval of items or containment checks even with thousands of entries in the collection."
   ]
  },
  {
   "cell_type": "markdown",
   "metadata": {},
   "source": [
    "## Word frequency dictionary\n",
    "\n",
    "Now that we know the building blocks, let's finally take a look at the **build_freqs()** function in **utils.py**. This is the function that creates the dictionary containing the word counts from each corpus."
   ]
  },
  {
   "cell_type": "code",
   "execution_count": 22,
   "metadata": {},
   "outputs": [],
   "source": [
    "def build_freqs(tweets, ys):\n",
    "    yslist = np.squeeze(ys).tolist()\n",
    "    freqs={}\n",
    "    \n",
    "    for y, tweet in zip(yslist, tweets):\n",
    "        for word in process_tweet(tweet):\n",
    "            pair=(word, y)  # key --- (word, label)\n",
    "            if pair in freqs:\n",
    "                freqs[pair]+=1\n",
    "            else:\n",
    "                freqs[pair]=1\n",
    "    return freqs"
   ]
  },
  {
   "cell_type": "markdown",
   "metadata": {},
   "source": [
    "Now, it is time to use the dictionary returned by the `build_freqs()` function. First, let us feed our `tweets` and `labels` lists then print a basic report:"
   ]
  },
  {
   "cell_type": "code",
   "execution_count": 23,
   "metadata": {},
   "outputs": [
    {
     "name": "stdout",
     "output_type": "stream",
     "text": [
      "type(freqs) = <class 'dict'>\n",
      "len(freqs) = 13066\n"
     ]
    }
   ],
   "source": [
    "# create frequency dictionary\n",
    "freqs = build_freqs(tweets, labels)\n",
    "\n",
    "# check data type\n",
    "print(f'type(freqs) = {type(freqs)}')\n",
    "\n",
    "# check length of the dictionary\n",
    "print(f'len(freqs) = {len(freqs)}')"
   ]
  },
  {
   "cell_type": "code",
   "execution_count": 24,
   "metadata": {},
   "outputs": [
    {
     "data": {
      "text/plain": [
       "{('followfriday', 1.0): 25,\n",
       " ('top', 1.0): 32,\n",
       " ('engag', 1.0): 7,\n",
       " ('member', 1.0): 16,\n",
       " ('commun', 1.0): 33,\n",
       " ('week', 1.0): 83,\n",
       " (':)', 1.0): 3568,\n",
       " ('hey', 1.0): 76,\n",
       " ('jame', 1.0): 7,\n",
       " ('odd', 1.0): 2,\n",
       " (':/', 1.0): 5,\n",
       " ('pleas', 1.0): 97,\n",
       " ('call', 1.0): 37,\n",
       " ('contact', 1.0): 7,\n",
       " ('centr', 1.0): 2,\n",
       " ('02392441234', 1.0): 1,\n",
       " ('abl', 1.0): 8,\n",
       " ('assist', 1.0): 1,\n",
       " ('mani', 1.0): 33,\n",
       " ('thank', 1.0): 620,\n",
       " ('listen', 1.0): 16,\n",
       " ('last', 1.0): 47,\n",
       " ('night', 1.0): 68,\n",
       " ('bleed', 1.0): 2,\n",
       " ('amaz', 1.0): 51,\n",
       " ('track', 1.0): 5,\n",
       " ('scotland', 1.0): 2,\n",
       " ('congrat', 1.0): 21,\n",
       " ('yeaaah', 1.0): 1,\n",
       " ('yipppi', 1.0): 1,\n",
       " ('accnt', 1.0): 2,\n",
       " ('verifi', 1.0): 2,\n",
       " ('rqst', 1.0): 1,\n",
       " ('succeed', 1.0): 1,\n",
       " ('got', 1.0): 69,\n",
       " ('blue', 1.0): 9,\n",
       " ('tick', 1.0): 1,\n",
       " ('mark', 1.0): 1,\n",
       " ('fb', 1.0): 6,\n",
       " ('profil', 1.0): 2,\n",
       " ('15', 1.0): 5,\n",
       " ('day', 1.0): 246,\n",
       " ('one', 1.0): 129,\n",
       " ('irresist', 1.0): 2,\n",
       " ('flipkartfashionfriday', 1.0): 17,\n",
       " ('like', 1.0): 233,\n",
       " ('keep', 1.0): 68,\n",
       " ('love', 1.0): 400,\n",
       " ('custom', 1.0): 4,\n",
       " ('wait', 1.0): 70,\n",
       " ('long', 1.0): 36,\n",
       " ('hope', 1.0): 141,\n",
       " ('enjoy', 1.0): 75,\n",
       " ('happi', 1.0): 211,\n",
       " ('friday', 1.0): 116,\n",
       " ('lwwf', 1.0): 1,\n",
       " ('second', 1.0): 10,\n",
       " ('thought', 1.0): 29,\n",
       " ('’', 1.0): 21,\n",
       " ('enough', 1.0): 18,\n",
       " ('time', 1.0): 127,\n",
       " ('dd', 1.0): 1,\n",
       " ('new', 1.0): 143,\n",
       " ('short', 1.0): 7,\n",
       " ('enter', 1.0): 9,\n",
       " ('system', 1.0): 2,\n",
       " ('sheep', 1.0): 1,\n",
       " ('must', 1.0): 18,\n",
       " ('buy', 1.0): 11,\n",
       " ('jgh', 1.0): 4,\n",
       " ('go', 1.0): 148,\n",
       " ('bayan', 1.0): 1,\n",
       " (':d', 1.0): 629,\n",
       " ('bye', 1.0): 7,\n",
       " ('act', 1.0): 8,\n",
       " ('mischiev', 1.0): 1,\n",
       " ('etl', 1.0): 1,\n",
       " ('layer', 1.0): 1,\n",
       " ('in-hous', 1.0): 1,\n",
       " ('wareh', 1.0): 1,\n",
       " ('app', 1.0): 16,\n",
       " ('katamari', 1.0): 1,\n",
       " ('well', 1.0): 81,\n",
       " ('…', 1.0): 38,\n",
       " ('name', 1.0): 18,\n",
       " ('impli', 1.0): 1,\n",
       " (':p', 1.0): 138,\n",
       " ('influenc', 1.0): 18,\n",
       " ('big', 1.0): 33,\n",
       " ('...', 1.0): 289,\n",
       " ('juici', 1.0): 3,\n",
       " ('selfi', 1.0): 12,\n",
       " ('follow', 1.0): 381,\n",
       " ('perfect', 1.0): 24,\n",
       " ('alreadi', 1.0): 28,\n",
       " ('know', 1.0): 145,\n",
       " (\"what'\", 1.0): 17,\n",
       " ('great', 1.0): 171,\n",
       " ('opportun', 1.0): 23,\n",
       " ('junior', 1.0): 2,\n",
       " ('triathlet', 1.0): 1,\n",
       " ('age', 1.0): 2,\n",
       " ('12', 1.0): 5,\n",
       " ('13', 1.0): 6,\n",
       " ('gatorad', 1.0): 1,\n",
       " ('seri', 1.0): 5,\n",
       " ('get', 1.0): 206,\n",
       " ('entri', 1.0): 4,\n",
       " ('lay', 1.0): 4,\n",
       " ('greet', 1.0): 5,\n",
       " ('card', 1.0): 8,\n",
       " ('rang', 1.0): 3,\n",
       " ('print', 1.0): 3,\n",
       " ('today', 1.0): 108,\n",
       " ('job', 1.0): 41,\n",
       " (':-)', 1.0): 692,\n",
       " (\"friend'\", 1.0): 3,\n",
       " ('lunch', 1.0): 5,\n",
       " ('yummm', 1.0): 1,\n",
       " ('nostalgia', 1.0): 1,\n",
       " ('tb', 1.0): 2,\n",
       " ('ku', 1.0): 1,\n",
       " ('id', 1.0): 8,\n",
       " ('conflict', 1.0): 1,\n",
       " ('help', 1.0): 41,\n",
       " (\"here'\", 1.0): 25,\n",
       " ('screenshot', 1.0): 3,\n",
       " ('work', 1.0): 110,\n",
       " ('hi', 1.0): 173,\n",
       " ('liv', 1.0): 2,\n",
       " ('hello', 1.0): 59,\n",
       " ('need', 1.0): 78,\n",
       " ('someth', 1.0): 28,\n",
       " ('u', 1.0): 175,\n",
       " ('fm', 1.0): 2,\n",
       " ('twitter', 1.0): 29,\n",
       " ('—', 1.0): 27,\n",
       " ('sure', 1.0): 58,\n",
       " ('thing', 1.0): 69,\n",
       " ('dm', 1.0): 39,\n",
       " ('x', 1.0): 72,\n",
       " (\"i'v\", 1.0): 35,\n",
       " ('heard', 1.0): 9,\n",
       " ('four', 1.0): 5,\n",
       " ('season', 1.0): 9,\n",
       " ('pretti', 1.0): 20,\n",
       " ('dope', 1.0): 2,\n",
       " ('penthous', 1.0): 1,\n",
       " ('obv', 1.0): 1,\n",
       " ('gobigorgohom', 1.0): 1,\n",
       " ('fun', 1.0): 58,\n",
       " (\"y'all\", 1.0): 3,\n",
       " ('yeah', 1.0): 47,\n",
       " ('suppos', 1.0): 7,\n",
       " ('lol', 1.0): 64,\n",
       " ('chat', 1.0): 13,\n",
       " ('bit', 1.0): 20,\n",
       " ('youth', 1.0): 19,\n",
       " ('💅', 1.0): 1,\n",
       " ('🏽', 1.0): 2,\n",
       " ('💋', 1.0): 2,\n",
       " ('seen', 1.0): 10,\n",
       " ('year', 1.0): 43,\n",
       " ('rest', 1.0): 12,\n",
       " ('goe', 1.0): 7,\n",
       " ('quickli', 1.0): 3,\n",
       " ('bed', 1.0): 16,\n",
       " ('music', 1.0): 21,\n",
       " ('fix', 1.0): 10,\n",
       " ('dream', 1.0): 20,\n",
       " ('spiritu', 1.0): 1,\n",
       " ('ritual', 1.0): 1,\n",
       " ('festiv', 1.0): 8,\n",
       " ('népal', 1.0): 1,\n",
       " ('begin', 1.0): 4,\n",
       " ('line-up', 1.0): 4,\n",
       " ('left', 1.0): 13,\n",
       " ('see', 1.0): 184,\n",
       " ('sarah', 1.0): 4,\n",
       " ('send', 1.0): 22,\n",
       " ('us', 1.0): 109,\n",
       " ('email', 1.0): 26,\n",
       " ('bitsy@bitdefender.com', 1.0): 1,\n",
       " (\"we'll\", 1.0): 20,\n",
       " ('asap', 1.0): 5,\n",
       " ('kik', 1.0): 22,\n",
       " ('hatessuc', 1.0): 1,\n",
       " ('32429', 1.0): 1,\n",
       " ('kikm', 1.0): 1,\n",
       " ('lgbt', 1.0): 2,\n",
       " ('tinder', 1.0): 1,\n",
       " ('nsfw', 1.0): 1,\n",
       " ('akua', 1.0): 1,\n",
       " ('cumshot', 1.0): 1,\n",
       " ('come', 1.0): 70,\n",
       " ('hous', 1.0): 7,\n",
       " ('nsn_supplement', 1.0): 1,\n",
       " ('effect', 1.0): 4,\n",
       " ('press', 1.0): 1,\n",
       " ('releas', 1.0): 11,\n",
       " ('distribut', 1.0): 1,\n",
       " ('result', 1.0): 2,\n",
       " ('link', 1.0): 18,\n",
       " ('remov', 1.0): 3,\n",
       " ('pressreleas', 1.0): 1,\n",
       " ('newsdistribut', 1.0): 1,\n",
       " ('bam', 1.0): 44,\n",
       " ('bestfriend', 1.0): 50,\n",
       " ('lot', 1.0): 87,\n",
       " ('warsaw', 1.0): 44,\n",
       " ('<3', 1.0): 134,\n",
       " ('x46', 1.0): 1,\n",
       " ('everyon', 1.0): 58,\n",
       " ('watch', 1.0): 46,\n",
       " ('documentari', 1.0): 1,\n",
       " ('earthl', 1.0): 2,\n",
       " ('youtub', 1.0): 13,\n",
       " ('support', 1.0): 27,\n",
       " ('buuut', 1.0): 1,\n",
       " ('oh', 1.0): 53,\n",
       " ('look', 1.0): 137,\n",
       " ('forward', 1.0): 29,\n",
       " ('visit', 1.0): 30,\n",
       " ('next', 1.0): 48,\n",
       " ('letsgetmessi', 1.0): 1,\n",
       " ('jo', 1.0): 1,\n",
       " ('make', 1.0): 99,\n",
       " ('feel', 1.0): 46,\n",
       " ('better', 1.0): 52,\n",
       " ('never', 1.0): 36,\n",
       " ('anyon', 1.0): 11,\n",
       " ('kpop', 1.0): 1,\n",
       " ('flesh', 1.0): 1,\n",
       " ('good', 1.0): 238,\n",
       " ('girl', 1.0): 44,\n",
       " ('best', 1.0): 65,\n",
       " ('wish', 1.0): 37,\n",
       " ('reason', 1.0): 13,\n",
       " ('epic', 1.0): 2,\n",
       " ('soundtrack', 1.0): 1,\n",
       " ('shout', 1.0): 12,\n",
       " ('ad', 1.0): 14,\n",
       " ('video', 1.0): 34,\n",
       " ('playlist', 1.0): 5,\n",
       " ('would', 1.0): 84,\n",
       " ('dear', 1.0): 17,\n",
       " ('jordan', 1.0): 1,\n",
       " ('okay', 1.0): 39,\n",
       " ('fake', 1.0): 2,\n",
       " ('gameplay', 1.0): 2,\n",
       " (';)', 1.0): 27,\n",
       " ('haha', 1.0): 53,\n",
       " ('im', 1.0): 51,\n",
       " ('kid', 1.0): 18,\n",
       " ('stuff', 1.0): 13,\n",
       " ('exactli', 1.0): 6,\n",
       " ('product', 1.0): 12,\n",
       " ('line', 1.0): 6,\n",
       " ('etsi', 1.0): 1,\n",
       " ('shop', 1.0): 16,\n",
       " ('check', 1.0): 52,\n",
       " ('vacat', 1.0): 6,\n",
       " ('recharg', 1.0): 1,\n",
       " ('normal', 1.0): 6,\n",
       " ('charger', 1.0): 2,\n",
       " ('asleep', 1.0): 9,\n",
       " ('talk', 1.0): 45,\n",
       " ('sooo', 1.0): 6,\n",
       " ('someon', 1.0): 34,\n",
       " ('text', 1.0): 18,\n",
       " ('ye', 1.0): 77,\n",
       " ('bet', 1.0): 6,\n",
       " (\"he'll\", 1.0): 4,\n",
       " ('fit', 1.0): 3,\n",
       " ('hear', 1.0): 33,\n",
       " ('speech', 1.0): 1,\n",
       " ('piti', 1.0): 3,\n",
       " ('green', 1.0): 3,\n",
       " ('garden', 1.0): 7,\n",
       " ('midnight', 1.0): 1,\n",
       " ('sun', 1.0): 6,\n",
       " ('beauti', 1.0): 50,\n",
       " ('canal', 1.0): 1,\n",
       " ('dasvidaniya', 1.0): 1,\n",
       " ('till', 1.0): 18,\n",
       " ('scout', 1.0): 1,\n",
       " ('sg', 1.0): 1,\n",
       " ('futur', 1.0): 13,\n",
       " ('wlan', 1.0): 1,\n",
       " ('pro', 1.0): 5,\n",
       " ('confer', 1.0): 1,\n",
       " ('asia', 1.0): 1,\n",
       " ('chang', 1.0): 24,\n",
       " ('lollipop', 1.0): 1,\n",
       " ('🍭', 1.0): 1,\n",
       " ('nez', 1.0): 1,\n",
       " ('agnezmo', 1.0): 1,\n",
       " ('oley', 1.0): 1,\n",
       " ('mama', 1.0): 1,\n",
       " ('stand', 1.0): 8,\n",
       " ('stronger', 1.0): 1,\n",
       " ('god', 1.0): 20,\n",
       " ('misti', 1.0): 1,\n",
       " ('babi', 1.0): 20,\n",
       " ('cute', 1.0): 26,\n",
       " ('woohoo', 1.0): 3,\n",
       " (\"can't\", 1.0): 43,\n",
       " ('sign', 1.0): 11,\n",
       " ('yet', 1.0): 13,\n",
       " ('still', 1.0): 48,\n",
       " ('think', 1.0): 63,\n",
       " ('mka', 1.0): 5,\n",
       " ('liam', 1.0): 8,\n",
       " ('access', 1.0): 3,\n",
       " ('welcom', 1.0): 73,\n",
       " ('stat', 1.0): 60,\n",
       " ('arriv', 1.0): 67,\n",
       " ('1', 1.0): 75,\n",
       " ('unfollow', 1.0): 63,\n",
       " ('via', 1.0): 69,\n",
       " ('surpris', 1.0): 10,\n",
       " ('figur', 1.0): 5,\n",
       " ('happybirthdayemilybett', 1.0): 1,\n",
       " ('sweet', 1.0): 19,\n",
       " ('talent', 1.0): 5,\n",
       " ('2', 1.0): 58,\n",
       " ('plan', 1.0): 27,\n",
       " ('drain', 1.0): 1,\n",
       " ('gotta', 1.0): 5,\n",
       " ('timezon', 1.0): 1,\n",
       " ('parent', 1.0): 5,\n",
       " ('proud', 1.0): 12,\n",
       " ('least', 1.0): 16,\n",
       " ('mayb', 1.0): 18,\n",
       " ('sometim', 1.0): 13,\n",
       " ('grade', 1.0): 4,\n",
       " ('al', 1.0): 4,\n",
       " ('grand', 1.0): 4,\n",
       " ('manila_bro', 1.0): 2,\n",
       " ('chosen', 1.0): 1,\n",
       " ('let', 1.0): 68,\n",
       " ('around', 1.0): 17,\n",
       " ('..', 1.0): 128,\n",
       " ('side', 1.0): 15,\n",
       " ('world', 1.0): 27,\n",
       " ('eh', 1.0): 2,\n",
       " ('take', 1.0): 43,\n",
       " ('care', 1.0): 18,\n",
       " ('final', 1.0): 30,\n",
       " ('fuck', 1.0): 26,\n",
       " ('weekend', 1.0): 75,\n",
       " ('real', 1.0): 21,\n",
       " ('x45', 1.0): 1,\n",
       " ('join', 1.0): 23,\n",
       " ('hushedcallwithfraydo', 1.0): 1,\n",
       " ('gift', 1.0): 8,\n",
       " ('yeahhh', 1.0): 1,\n",
       " ('hushedpinwithsammi', 1.0): 2,\n",
       " ('event', 1.0): 8,\n",
       " ('might', 1.0): 27,\n",
       " ('luv', 1.0): 6,\n",
       " ('realli', 1.0): 79,\n",
       " ('appreci', 1.0): 31,\n",
       " ('share', 1.0): 46,\n",
       " ('wow', 1.0): 22,\n",
       " ('tom', 1.0): 5,\n",
       " ('gym', 1.0): 4,\n",
       " ('monday', 1.0): 9,\n",
       " ('invit', 1.0): 17,\n",
       " ('scope', 1.0): 5,\n",
       " ('friend', 1.0): 61,\n",
       " ('nude', 1.0): 2,\n",
       " ('sleep', 1.0): 45,\n",
       " ('birthday', 1.0): 74,\n",
       " ('want', 1.0): 96,\n",
       " ('t-shirt', 1.0): 3,\n",
       " ('cool', 1.0): 38,\n",
       " ('haw', 1.0): 1,\n",
       " ('phela', 1.0): 1,\n",
       " ('mom', 1.0): 10,\n",
       " ('obvious', 1.0): 2,\n",
       " ('princ', 1.0): 1,\n",
       " ('charm', 1.0): 1,\n",
       " ('stage', 1.0): 2,\n",
       " ('luck', 1.0): 30,\n",
       " ('tyler', 1.0): 2,\n",
       " ('hipster', 1.0): 1,\n",
       " ('glass', 1.0): 5,\n",
       " ('marti', 1.0): 2,\n",
       " ('glad', 1.0): 43,\n",
       " ('done', 1.0): 54,\n",
       " ('afternoon', 1.0): 10,\n",
       " ('read', 1.0): 34,\n",
       " ('kahfi', 1.0): 1,\n",
       " ('finish', 1.0): 17,\n",
       " ('ohmyg', 1.0): 1,\n",
       " ('yaya', 1.0): 3,\n",
       " ('dub', 1.0): 2,\n",
       " ('stalk', 1.0): 2,\n",
       " ('ig', 1.0): 3,\n",
       " ('gondooo', 1.0): 1,\n",
       " ('moo', 1.0): 2,\n",
       " ('tologooo', 1.0): 1,\n",
       " ('becom', 1.0): 10,\n",
       " ('detail', 1.0): 10,\n",
       " ('zzz', 1.0): 1,\n",
       " ('xx', 1.0): 42,\n",
       " ('physiotherapi', 1.0): 1,\n",
       " ('hashtag', 1.0): 5,\n",
       " ('💪', 1.0): 1,\n",
       " ('monica', 1.0): 1,\n",
       " ('miss', 1.0): 27,\n",
       " ('sound', 1.0): 23,\n",
       " ('morn', 1.0): 101,\n",
       " (\"that'\", 1.0): 67,\n",
       " ('x43', 1.0): 1,\n",
       " ('definit', 1.0): 23,\n",
       " ('tri', 1.0): 44,\n",
       " ('tonight', 1.0): 20,\n",
       " ('took', 1.0): 8,\n",
       " ('advic', 1.0): 6,\n",
       " ('treviso', 1.0): 1,\n",
       " ('concert', 1.0): 24,\n",
       " ('citi', 1.0): 27,\n",
       " ('countri', 1.0): 23,\n",
       " (\"i'll\", 1.0): 90,\n",
       " ('start', 1.0): 61,\n",
       " ('fine', 1.0): 10,\n",
       " ('gorgeou', 1.0): 12,\n",
       " ('xo', 1.0): 2,\n",
       " ('oven', 1.0): 3,\n",
       " ('roast', 1.0): 2,\n",
       " ('garlic', 1.0): 1,\n",
       " ('oliv', 1.0): 1,\n",
       " ('oil', 1.0): 4,\n",
       " ('dri', 1.0): 5,\n",
       " ('tomato', 1.0): 1,\n",
       " ('basil', 1.0): 1,\n",
       " ('centuri', 1.0): 1,\n",
       " ('tuna', 1.0): 1,\n",
       " ('right', 1.0): 47,\n",
       " ('back', 1.0): 98,\n",
       " ('atchya', 1.0): 1,\n",
       " ('even', 1.0): 35,\n",
       " ('almost', 1.0): 10,\n",
       " ('chanc', 1.0): 6,\n",
       " ('cheer', 1.0): 20,\n",
       " ('po', 1.0): 4,\n",
       " ('ice', 1.0): 6,\n",
       " ('cream', 1.0): 6,\n",
       " ('agre', 1.0): 16,\n",
       " ('100', 1.0): 8,\n",
       " ('heheheh', 1.0): 2,\n",
       " ('that', 1.0): 13,\n",
       " ('point', 1.0): 13,\n",
       " ('stay', 1.0): 25,\n",
       " ('home', 1.0): 31,\n",
       " ('soon', 1.0): 47,\n",
       " ('promis', 1.0): 6,\n",
       " ('web', 1.0): 4,\n",
       " ('whatsapp', 1.0): 5,\n",
       " ('volta', 1.0): 1,\n",
       " ('funcionar', 1.0): 1,\n",
       " ('com', 1.0): 2,\n",
       " ('iphon', 1.0): 7,\n",
       " ('jailbroken', 1.0): 1,\n",
       " ('later', 1.0): 16,\n",
       " ('34', 1.0): 3,\n",
       " ('min', 1.0): 9,\n",
       " ('leia', 1.0): 1,\n",
       " ('appear', 1.0): 3,\n",
       " ('hologram', 1.0): 1,\n",
       " ('r2d2', 1.0): 1,\n",
       " ('w', 1.0): 18,\n",
       " ('messag', 1.0): 10,\n",
       " ('obi', 1.0): 1,\n",
       " ('wan', 1.0): 3,\n",
       " ('sit', 1.0): 8,\n",
       " ('luke', 1.0): 6,\n",
       " ('inter', 1.0): 1,\n",
       " ('3', 1.0): 32,\n",
       " ('ucl', 1.0): 1,\n",
       " ('arsen', 1.0): 2,\n",
       " ('small', 1.0): 4,\n",
       " ('team', 1.0): 29,\n",
       " ('pass', 1.0): 12,\n",
       " ('🚂', 1.0): 1,\n",
       " ('dewsburi', 1.0): 2,\n",
       " ('railway', 1.0): 1,\n",
       " ('station', 1.0): 4,\n",
       " ('dew', 1.0): 1,\n",
       " ('west', 1.0): 3,\n",
       " ('yorkshir', 1.0): 2,\n",
       " ('430', 1.0): 1,\n",
       " ('smh', 1.0): 2,\n",
       " ('9:25', 1.0): 1,\n",
       " ('live', 1.0): 26,\n",
       " ('strang', 1.0): 4,\n",
       " ('imagin', 1.0): 5,\n",
       " ('megan', 1.0): 1,\n",
       " ('masaantoday', 1.0): 6,\n",
       " ('a4', 1.0): 3,\n",
       " ('shweta', 1.0): 1,\n",
       " ('tripathi', 1.0): 1,\n",
       " ('5', 1.0): 17,\n",
       " ('20', 1.0): 6,\n",
       " ('kurta', 1.0): 3,\n",
       " ('half', 1.0): 7,\n",
       " ('number', 1.0): 13,\n",
       " ('wsalelov', 1.0): 16,\n",
       " ('ah', 1.0): 13,\n",
       " ('larri', 1.0): 3,\n",
       " ('anyway', 1.0): 16,\n",
       " ('kinda', 1.0): 13,\n",
       " ('goood', 1.0): 4,\n",
       " ('life', 1.0): 49,\n",
       " ('enn', 1.0): 1,\n",
       " ('could', 1.0): 32,\n",
       " ('warmup', 1.0): 1,\n",
       " ('15th', 1.0): 2,\n",
       " ('bath', 1.0): 7,\n",
       " ('dum', 1.0): 2,\n",
       " ('andar', 1.0): 1,\n",
       " ('ram', 1.0): 1,\n",
       " ('sampath', 1.0): 1,\n",
       " ('sona', 1.0): 1,\n",
       " ('mohapatra', 1.0): 1,\n",
       " ('samantha', 1.0): 1,\n",
       " ('edward', 1.0): 1,\n",
       " ('mein', 1.0): 1,\n",
       " ('tulan', 1.0): 1,\n",
       " ('razi', 1.0): 2,\n",
       " ('wah', 1.0): 2,\n",
       " ('josh', 1.0): 1,\n",
       " ('alway', 1.0): 67,\n",
       " ('smile', 1.0): 62,\n",
       " ('pictur', 1.0): 12,\n",
       " ('16.20', 1.0): 1,\n",
       " ('giveitup', 1.0): 1,\n",
       " ('given', 1.0): 3,\n",
       " ('ga', 1.0): 3,\n",
       " ('subsidi', 1.0): 1,\n",
       " ('initi', 1.0): 4,\n",
       " ('propos', 1.0): 3,\n",
       " ('delight', 1.0): 7,\n",
       " ('yesterday', 1.0): 7,\n",
       " ('x42', 1.0): 1,\n",
       " ('lmaoo', 1.0): 2,\n",
       " ('song', 1.0): 22,\n",
       " ('ever', 1.0): 23,\n",
       " ('shall', 1.0): 6,\n",
       " ('littl', 1.0): 31,\n",
       " ('throwback', 1.0): 3,\n",
       " ('outli', 1.0): 1,\n",
       " ('island', 1.0): 5,\n",
       " ('cheung', 1.0): 1,\n",
       " ('chau', 1.0): 1,\n",
       " ('mui', 1.0): 1,\n",
       " ('wo', 1.0): 1,\n",
       " ('total', 1.0): 9,\n",
       " ('differ', 1.0): 11,\n",
       " ('kfckitchentour', 1.0): 2,\n",
       " ('kitchen', 1.0): 4,\n",
       " ('clean', 1.0): 1,\n",
       " (\"i'm\", 1.0): 183,\n",
       " ('cusp', 1.0): 1,\n",
       " ('test', 1.0): 7,\n",
       " ('water', 1.0): 8,\n",
       " ('reward', 1.0): 1,\n",
       " ('arummzz', 1.0): 2,\n",
       " (\"let'\", 1.0): 23,\n",
       " ('drive', 1.0): 11,\n",
       " ('travel', 1.0): 20,\n",
       " ('yogyakarta', 1.0): 3,\n",
       " ('jeep', 1.0): 3,\n",
       " ('indonesia', 1.0): 4,\n",
       " ('instamood', 1.0): 3,\n",
       " ('wanna', 1.0): 30,\n",
       " ('skype', 1.0): 3,\n",
       " ('may', 1.0): 22,\n",
       " ('nice', 1.0): 98,\n",
       " ('friendli', 1.0): 2,\n",
       " ('pretend', 1.0): 2,\n",
       " ('film', 1.0): 9,\n",
       " ('congratul', 1.0): 15,\n",
       " ('winner', 1.0): 4,\n",
       " ('cheesydelight', 1.0): 1,\n",
       " ('contest', 1.0): 6,\n",
       " ('address', 1.0): 10,\n",
       " ('guy', 1.0): 60,\n",
       " ('market', 1.0): 5,\n",
       " ('24/7', 1.0): 1,\n",
       " ('14', 1.0): 1,\n",
       " ('hour', 1.0): 27,\n",
       " ('leav', 1.0): 12,\n",
       " ('without', 1.0): 12,\n",
       " ('delay', 1.0): 2,\n",
       " ('actual', 1.0): 19,\n",
       " ('easi', 1.0): 9,\n",
       " ('guess', 1.0): 14,\n",
       " ('train', 1.0): 10,\n",
       " ('wd', 1.0): 1,\n",
       " ('shift', 1.0): 5,\n",
       " ('engin', 1.0): 2,\n",
       " ('etc', 1.0): 2,\n",
       " ('sunburn', 1.0): 1,\n",
       " ('peel', 1.0): 2,\n",
       " ('blog', 1.0): 31,\n",
       " ('huge', 1.0): 11,\n",
       " ('warm', 1.0): 6,\n",
       " ('☆', 1.0): 3,\n",
       " ('complet', 1.0): 11,\n",
       " ('triangl', 1.0): 2,\n",
       " ('northern', 1.0): 1,\n",
       " ('ireland', 1.0): 2,\n",
       " ('sight', 1.0): 1,\n",
       " ('smthng', 1.0): 2,\n",
       " ('fr', 1.0): 3,\n",
       " ('hug', 1.0): 13,\n",
       " ('xoxo', 1.0): 3,\n",
       " ('uu', 1.0): 1,\n",
       " ('jaann', 1.0): 1,\n",
       " ('topnewfollow', 1.0): 2,\n",
       " ('connect', 1.0): 14,\n",
       " ('wonder', 1.0): 35,\n",
       " ('made', 1.0): 53,\n",
       " ('fluffi', 1.0): 1,\n",
       " ('insid', 1.0): 8,\n",
       " ('pirouett', 1.0): 1,\n",
       " ('moos', 1.0): 1,\n",
       " ('trip', 1.0): 14,\n",
       " ('philli', 1.0): 1,\n",
       " ('decemb', 1.0): 3,\n",
       " (\"i'd\", 1.0): 20,\n",
       " ('dude', 1.0): 6,\n",
       " ('x41', 1.0): 1,\n",
       " ('question', 1.0): 17,\n",
       " ('flaw', 1.0): 1,\n",
       " ('pain', 1.0): 9,\n",
       " ('negat', 1.0): 1,\n",
       " ('strength', 1.0): 3,\n",
       " ('went', 1.0): 12,\n",
       " ('solo', 1.0): 4,\n",
       " ('move', 1.0): 12,\n",
       " ('fav', 1.0): 13,\n",
       " ('nirvana', 1.0): 1,\n",
       " ('smell', 1.0): 2,\n",
       " ('teen', 1.0): 3,\n",
       " ('spirit', 1.0): 3,\n",
       " ('rip', 1.0): 3,\n",
       " ('ami', 1.0): 4,\n",
       " ('winehous', 1.0): 1,\n",
       " ('coupl', 1.0): 9,\n",
       " ('tomhiddleston', 1.0): 1,\n",
       " ('elizabetholsen', 1.0): 1,\n",
       " ('yaytheylookgreat', 1.0): 1,\n",
       " ('goodnight', 1.0): 24,\n",
       " ('vid', 1.0): 11,\n",
       " ('wake', 1.0): 12,\n",
       " ('gonna', 1.0): 21,\n",
       " ('shoot', 1.0): 6,\n",
       " ('itti', 1.0): 2,\n",
       " ('bitti', 1.0): 2,\n",
       " ('teeni', 1.0): 2,\n",
       " ('bikini', 1.0): 3,\n",
       " ('much', 1.0): 89,\n",
       " ('4th', 1.0): 4,\n",
       " ('togeth', 1.0): 7,\n",
       " ('end', 1.0): 20,\n",
       " ('xfile', 1.0): 1,\n",
       " ('content', 1.0): 4,\n",
       " ('rain', 1.0): 21,\n",
       " ('fabul', 1.0): 5,\n",
       " ('fantast', 1.0): 13,\n",
       " ('♡', 1.0): 20,\n",
       " ('jb', 1.0): 1,\n",
       " ('forev', 1.0): 5,\n",
       " ('belieb', 1.0): 3,\n",
       " ('nighti', 1.0): 1,\n",
       " ('bug', 1.0): 3,\n",
       " ('bite', 1.0): 1,\n",
       " ('bracelet', 1.0): 2,\n",
       " ('idea', 1.0): 26,\n",
       " ('foundri', 1.0): 1,\n",
       " ('game', 1.0): 27,\n",
       " ('sens', 1.0): 7,\n",
       " ('pic', 1.0): 27,\n",
       " ('ef', 1.0): 1,\n",
       " ('phone', 1.0): 19,\n",
       " ('woot', 1.0): 2,\n",
       " ('derek', 1.0): 1,\n",
       " ('use', 1.0): 44,\n",
       " ('parkshar', 1.0): 1,\n",
       " ('gloucestershir', 1.0): 1,\n",
       " ('aaaahhh', 1.0): 1,\n",
       " ('man', 1.0): 23,\n",
       " ('traffic', 1.0): 2,\n",
       " ('stress', 1.0): 8,\n",
       " ('reliev', 1.0): 1,\n",
       " (\"how'r\", 1.0): 1,\n",
       " ('arbeloa', 1.0): 1,\n",
       " ('turn', 1.0): 15,\n",
       " ('17', 1.0): 4,\n",
       " ('omg', 1.0): 15,\n",
       " ('say', 1.0): 61,\n",
       " ('europ', 1.0): 1,\n",
       " ('rise', 1.0): 2,\n",
       " ('find', 1.0): 23,\n",
       " ('hard', 1.0): 12,\n",
       " ('believ', 1.0): 9,\n",
       " ('uncount', 1.0): 1,\n",
       " ('coz', 1.0): 3,\n",
       " ('unlimit', 1.0): 1,\n",
       " ('cours', 1.0): 18,\n",
       " ('teamposit', 1.0): 1,\n",
       " ('aldub', 1.0): 2,\n",
       " ('☕', 1.0): 3,\n",
       " ('rita', 1.0): 2,\n",
       " ('info', 1.0): 13,\n",
       " (\"we'd\", 1.0): 4,\n",
       " ('way', 1.0): 46,\n",
       " ('boy', 1.0): 21,\n",
       " ('x40', 1.0): 1,\n",
       " ('true', 1.0): 22,\n",
       " ('sethi', 1.0): 2,\n",
       " ('high', 1.0): 7,\n",
       " ('exe', 1.0): 1,\n",
       " ('skeem', 1.0): 1,\n",
       " ('saam', 1.0): 1,\n",
       " ('peopl', 1.0): 48,\n",
       " ('polit', 1.0): 2,\n",
       " ('izzat', 1.0): 1,\n",
       " ('wese', 1.0): 1,\n",
       " ('trust', 1.0): 9,\n",
       " ('khawateen', 1.0): 1,\n",
       " ('k', 1.0): 9,\n",
       " ('sath', 1.0): 2,\n",
       " ('mana', 1.0): 1,\n",
       " ('kar', 1.0): 1,\n",
       " ('deya', 1.0): 1,\n",
       " ('sort', 1.0): 9,\n",
       " ('smart', 1.0): 5,\n",
       " ('hair', 1.0): 12,\n",
       " ('tbh', 1.0): 5,\n",
       " ('jacob', 1.0): 2,\n",
       " ('g', 1.0): 10,\n",
       " ('upgrad', 1.0): 6,\n",
       " ('tee', 1.0): 2,\n",
       " ('famili', 1.0): 19,\n",
       " ('person', 1.0): 19,\n",
       " ('two', 1.0): 22,\n",
       " ('convers', 1.0): 6,\n",
       " ('onlin', 1.0): 7,\n",
       " ('mclaren', 1.0): 1,\n",
       " ('fridayfeel', 1.0): 5,\n",
       " ('tgif', 1.0): 10,\n",
       " ('squar', 1.0): 1,\n",
       " ('enix', 1.0): 1,\n",
       " ('bissmillah', 1.0): 1,\n",
       " ('ya', 1.0): 23,\n",
       " ('allah', 1.0): 3,\n",
       " (\"we'r\", 1.0): 29,\n",
       " ('socent', 1.0): 1,\n",
       " ('startup', 1.0): 2,\n",
       " ('drop', 1.0): 9,\n",
       " ('your', 1.0): 3,\n",
       " ('arnd', 1.0): 1,\n",
       " ('town', 1.0): 5,\n",
       " ('basic', 1.0): 4,\n",
       " ('piss', 1.0): 3,\n",
       " ('cup', 1.0): 4,\n",
       " ('also', 1.0): 35,\n",
       " ('terribl', 1.0): 2,\n",
       " ('complic', 1.0): 1,\n",
       " ('discuss', 1.0): 3,\n",
       " ('snapchat', 1.0): 36,\n",
       " ('lynettelow', 1.0): 1,\n",
       " ('kikmenow', 1.0): 3,\n",
       " ('snapm', 1.0): 2,\n",
       " ('hot', 1.0): 24,\n",
       " ('amazon', 1.0): 1,\n",
       " ('kikmeguy', 1.0): 3,\n",
       " ('defin', 1.0): 2,\n",
       " ('grow', 1.0): 7,\n",
       " ('sport', 1.0): 4,\n",
       " ('rt', 1.0): 12,\n",
       " ('rakyat', 1.0): 1,\n",
       " ('write', 1.0): 13,\n",
       " ('sinc', 1.0): 15,\n",
       " ('mention', 1.0): 24,\n",
       " ('fli', 1.0): 5,\n",
       " ('fish', 1.0): 3,\n",
       " ('promot', 1.0): 5,\n",
       " ('post', 1.0): 21,\n",
       " ('cyber', 1.0): 1,\n",
       " ('ourdaughtersourprid', 1.0): 5,\n",
       " ('mypapamyprid', 1.0): 2,\n",
       " ('papa', 1.0): 2,\n",
       " ('coach', 1.0): 2,\n",
       " ('posit', 1.0): 8,\n",
       " ('kha', 1.0): 1,\n",
       " ('atleast', 1.0): 2,\n",
       " ('x39', 1.0): 1,\n",
       " ('mango', 1.0): 1,\n",
       " (\"lassi'\", 1.0): 1,\n",
       " (\"monty'\", 1.0): 1,\n",
       " ('marvel', 1.0): 2,\n",
       " ('though', 1.0): 19,\n",
       " ('suspect', 1.0): 3,\n",
       " ('meant', 1.0): 3,\n",
       " ('24', 1.0): 4,\n",
       " ('hr', 1.0): 2,\n",
       " ('touch', 1.0): 15,\n",
       " ('kepler', 1.0): 4,\n",
       " ('452b', 1.0): 5,\n",
       " ('chalna', 1.0): 1,\n",
       " ('hai', 1.0): 11,\n",
       " ('thankyou', 1.0): 14,\n",
       " ('hazel', 1.0): 1,\n",
       " ('food', 1.0): 6,\n",
       " ('brooklyn', 1.0): 1,\n",
       " ('pta', 1.0): 2,\n",
       " ('awak', 1.0): 10,\n",
       " ('okayi', 1.0): 2,\n",
       " ('awww', 1.0): 15,\n",
       " ('ha', 1.0): 23,\n",
       " ('doc', 1.0): 1,\n",
       " ('splendid', 1.0): 1,\n",
       " ('spam', 1.0): 1,\n",
       " ('folder', 1.0): 1,\n",
       " ('amount', 1.0): 1,\n",
       " ('nigeria', 1.0): 1,\n",
       " ('claim', 1.0): 1,\n",
       " ('rted', 1.0): 1,\n",
       " ('leg', 1.0): 5,\n",
       " ('hurt', 1.0): 8,\n",
       " ('bad', 1.0): 18,\n",
       " ('mine', 1.0): 14,\n",
       " ('saturday', 1.0): 8,\n",
       " ('thaaank', 1.0): 1,\n",
       " ('puhon', 1.0): 1,\n",
       " ('happinesss', 1.0): 1,\n",
       " ('tnc', 1.0): 1,\n",
       " ('prior', 1.0): 1,\n",
       " ('notif', 1.0): 2,\n",
       " ('fat', 1.0): 1,\n",
       " ('co', 1.0): 1,\n",
       " ('probabl', 1.0): 9,\n",
       " ('ate', 1.0): 4,\n",
       " ('yuna', 1.0): 2,\n",
       " ('tamesid', 1.0): 1,\n",
       " ('´', 1.0): 3,\n",
       " ('googl', 1.0): 6,\n",
       " ('account', 1.0): 19,\n",
       " ('scouser', 1.0): 1,\n",
       " ('everyth', 1.0): 13,\n",
       " ('zoe', 1.0): 2,\n",
       " ('mate', 1.0): 7,\n",
       " ('liter', 1.0): 6,\n",
       " (\"they'r\", 1.0): 12,\n",
       " ('samee', 1.0): 1,\n",
       " ('edgar', 1.0): 1,\n",
       " ('updat', 1.0): 13,\n",
       " ('log', 1.0): 4,\n",
       " ('bring', 1.0): 17,\n",
       " ('abe', 1.0): 1,\n",
       " ('meet', 1.0): 34,\n",
       " ('x38', 1.0): 1,\n",
       " ('sigh', 1.0): 3,\n",
       " ('dreamili', 1.0): 1,\n",
       " ('pout', 1.0): 1,\n",
       " ('eye', 1.0): 14,\n",
       " ('quacketyquack', 1.0): 7,\n",
       " ('funni', 1.0): 19,\n",
       " ('happen', 1.0): 16,\n",
       " ('phil', 1.0): 1,\n",
       " ('em', 1.0): 3,\n",
       " ('del', 1.0): 1,\n",
       " ('rodder', 1.0): 1,\n",
       " ('els', 1.0): 10,\n",
       " ('play', 1.0): 46,\n",
       " ('newest', 1.0): 1,\n",
       " ('gamejam', 1.0): 1,\n",
       " ('irish', 1.0): 2,\n",
       " ('literatur', 1.0): 2,\n",
       " ('inaccess', 1.0): 2,\n",
       " (\"kareena'\", 1.0): 2,\n",
       " ('fan', 1.0): 30,\n",
       " ('brain', 1.0): 13,\n",
       " ('dot', 1.0): 11,\n",
       " ('braindot', 1.0): 11,\n",
       " ('fair', 1.0): 5,\n",
       " ('rush', 1.0): 1,\n",
       " ('either', 1.0): 11,\n",
       " ('brandi', 1.0): 1,\n",
       " ('18', 1.0): 5,\n",
       " ('carniv', 1.0): 1,\n",
       " ('men', 1.0): 10,\n",
       " ('put', 1.0): 17,\n",
       " ('mask', 1.0): 3,\n",
       " ('xavier', 1.0): 1,\n",
       " ('forneret', 1.0): 1,\n",
       " ('jennif', 1.0): 1,\n",
       " ('site', 1.0): 9,\n",
       " ('free', 1.0): 37,\n",
       " ('50.000', 1.0): 3,\n",
       " ('8', 1.0): 10,\n",
       " ('ball', 1.0): 7,\n",
       " ('pool', 1.0): 5,\n",
       " ('coin', 1.0): 5,\n",
       " ('edit', 1.0): 7,\n",
       " ('trish', 1.0): 1,\n",
       " ('♥', 1.0): 19,\n",
       " ('grate', 1.0): 5,\n",
       " ('three', 1.0): 10,\n",
       " ('comment', 1.0): 8,\n",
       " ('wakeup', 1.0): 1,\n",
       " ('besid', 1.0): 2,\n",
       " ('dirti', 1.0): 2,\n",
       " ('sex', 1.0): 6,\n",
       " ('lmaooo', 1.0): 1,\n",
       " ('😤', 1.0): 2,\n",
       " ('loui', 1.0): 4,\n",
       " (\"he'\", 1.0): 11,\n",
       " ('throw', 1.0): 3,\n",
       " ('caus', 1.0): 15,\n",
       " ('inspir', 1.0): 7,\n",
       " ('ff', 1.0): 48,\n",
       " ('twoof', 1.0): 3,\n",
       " ('gr8', 1.0): 1,\n",
       " ('wkend', 1.0): 3,\n",
       " ('kind', 1.0): 24,\n",
       " ('exhaust', 1.0): 2,\n",
       " ('word', 1.0): 20,\n",
       " ('cheltenham', 1.0): 1,\n",
       " ('area', 1.0): 4,\n",
       " ('kale', 1.0): 1,\n",
       " ('crisp', 1.0): 1,\n",
       " ('ruin', 1.0): 5,\n",
       " ('x37', 1.0): 1,\n",
       " ('open', 1.0): 12,\n",
       " ('worldwid', 1.0): 2,\n",
       " ('outta', 1.0): 1,\n",
       " ('sfvbeta', 1.0): 1,\n",
       " ('vantast', 1.0): 1,\n",
       " ('xcylin', 1.0): 1,\n",
       " ('bundl', 1.0): 1,\n",
       " ('show', 1.0): 28,\n",
       " ('internet', 1.0): 2,\n",
       " ('price', 1.0): 4,\n",
       " ('realisticli', 1.0): 1,\n",
       " ('pay', 1.0): 8,\n",
       " ('net', 1.0): 1,\n",
       " ('educ', 1.0): 1,\n",
       " ('power', 1.0): 7,\n",
       " ('weapon', 1.0): 1,\n",
       " ('nelson', 1.0): 1,\n",
       " ('mandela', 1.0): 1,\n",
       " ('recent', 1.0): 9,\n",
       " ('j', 1.0): 3,\n",
       " ('chenab', 1.0): 1,\n",
       " ('flow', 1.0): 5,\n",
       " ('pakistan', 1.0): 2,\n",
       " ('incredibleindia', 1.0): 1,\n",
       " ('teenchoic', 1.0): 10,\n",
       " ('choiceinternationalartist', 1.0): 9,\n",
       " ('superjunior', 1.0): 9,\n",
       " ('caught', 1.0): 4,\n",
       " ('first', 1.0): 50,\n",
       " ('salmon', 1.0): 3,\n",
       " ('super-blend', 1.0): 1,\n",
       " ('project', 1.0): 6,\n",
       " ('youth@bipolaruk.org.uk', 1.0): 1,\n",
       " ('awesom', 1.0): 42,\n",
       " ('stream', 1.0): 14,\n",
       " ('alma', 1.0): 1,\n",
       " ('mater', 1.0): 1,\n",
       " ('highschoolday', 1.0): 1,\n",
       " ('clientvisit', 1.0): 1,\n",
       " ('faith', 1.0): 3,\n",
       " ('christian', 1.0): 1,\n",
       " ('school', 1.0): 9,\n",
       " ('lizaminnelli', 1.0): 1,\n",
       " ('upcom', 1.0): 2,\n",
       " ('uk', 1.0): 4,\n",
       " ('😄', 1.0): 5,\n",
       " ('singl', 1.0): 6,\n",
       " ('hill', 1.0): 4,\n",
       " ('everi', 1.0): 26,\n",
       " ('beat', 1.0): 10,\n",
       " ('wrong', 1.0): 10,\n",
       " ('readi', 1.0): 25,\n",
       " ('natur', 1.0): 1,\n",
       " ('pefumeri', 1.0): 1,\n",
       " ('workshop', 1.0): 3,\n",
       " ('neal', 1.0): 1,\n",
       " ('yard', 1.0): 1,\n",
       " ('covent', 1.0): 1,\n",
       " ('tomorrow', 1.0): 40,\n",
       " ('fback', 1.0): 27,\n",
       " ...}"
      ]
     },
     "execution_count": 24,
     "metadata": {},
     "output_type": "execute_result"
    }
   ],
   "source": [
    "freqs"
   ]
  },
  {
   "cell_type": "markdown",
   "metadata": {},
   "source": [
    "## Table of word counts\n",
    "\n",
    "We will select a set of words that we would like to visualize. It is better to store this temporary information in a table that is very easy to use later."
   ]
  },
  {
   "cell_type": "code",
   "execution_count": 25,
   "metadata": {},
   "outputs": [
    {
     "data": {
      "text/plain": [
       "[['happi', 211, 25],\n",
       " ['merri', 1, 0],\n",
       " ['nice', 98, 19],\n",
       " ['good', 238, 101],\n",
       " ['bad', 18, 73],\n",
       " ['sad', 5, 123],\n",
       " ['mad', 4, 11],\n",
       " ['best', 65, 22],\n",
       " ['pretti', 20, 15],\n",
       " ['❤', 29, 21],\n",
       " [':)', 3568, 2],\n",
       " [':(', 1, 4571],\n",
       " ['😒', 1, 3],\n",
       " ['😬', 0, 2],\n",
       " ['😄', 5, 1],\n",
       " ['😍', 2, 1],\n",
       " ['♛', 0, 210],\n",
       " ['song', 22, 27],\n",
       " ['idea', 26, 10],\n",
       " ['power', 7, 6],\n",
       " ['play', 46, 48],\n",
       " ['magnific', 2, 0]]"
      ]
     },
     "execution_count": 25,
     "metadata": {},
     "output_type": "execute_result"
    }
   ],
   "source": [
    "# select some words to appear in the report. we will assume that each word is unique (i.e. no duplicates)\n",
    "keys = ['happi', 'merri', 'nice', 'good', 'bad', 'sad', 'mad', 'best', 'pretti',\n",
    "        '❤', ':)', ':(', '😒', '😬', '😄', '😍', '♛',\n",
    "        'song', 'idea', 'power', 'play', 'magnific']\n",
    "\n",
    "data = []\n",
    "\n",
    "for word in keys:\n",
    "    pos=0\n",
    "    neg=0\n",
    "    \n",
    "    if(word, 1) in freqs:\n",
    "        pos=freqs[(word, 1)]\n",
    "    if(word, 0) in freqs:\n",
    "        neg=freqs[(word, 0)]\n",
    "        \n",
    "    data.append([word, pos, neg])\n",
    "\n",
    "data"
   ]
  },
  {
   "cell_type": "markdown",
   "metadata": {},
   "source": [
    "We can then use a scatter plot to inspect this table visually. Instead of plotting the raw counts, we will plot it in the logarithmic scale to take into account the wide discrepancies between the raw counts (e.g. `:)` has 3568 counts in the positive while only 2 in the negative). The red line marks the boundary between positive and negative areas. Words close to the red line can be classified as neutral. "
   ]
  },
  {
   "cell_type": "code",
   "execution_count": 26,
   "metadata": {},
   "outputs": [
    {
     "data": {
      "text/plain": [
       "[<matplotlib.lines.Line2D at 0x7fa9003a3810>]"
      ]
     },
     "execution_count": 26,
     "metadata": {},
     "output_type": "execute_result"
    },
    {
     "name": "stderr",
     "output_type": "stream",
     "text": [
      "/Users/qiusongyang/opt/miniconda3/envs/torch/lib/python3.7/site-packages/matplotlib/backends/backend_agg.py:240: RuntimeWarning: Glyph 128556 missing from current font.\n",
      "  font.set_text(s, 0.0, flags=flags)\n",
      "/Users/qiusongyang/opt/miniconda3/envs/torch/lib/python3.7/site-packages/matplotlib/backends/backend_agg.py:203: RuntimeWarning: Glyph 128556 missing from current font.\n",
      "  font.set_text(s, 0, flags=flags)\n"
     ]
    },
    {
     "data": {
      "image/png": "[encoded data removed]",
      "text/plain": [
       "<Figure size 576x576 with 1 Axes>"
      ]
     },
     "metadata": {
      "needs_background": "light"
     },
     "output_type": "display_data"
    }
   ],
   "source": [
    "fig,ax=plt.subplots(figsize=(8,8))\n",
    "\n",
    "x=np.log([x[1] + 1 for x in data])\n",
    "\n",
    "y=np.log([x[2] + 1 for x in data])\n",
    "\n",
    "ax.scatter(x,y,s=10,c='b')\n",
    "\n",
    "plt.xlabel(\"Log Positive count\")\n",
    "plt.ylabel(\"Log Negative count\")\n",
    "ax.tick_params(direction='in')\n",
    "\n",
    "for i in range(0, len(data)):\n",
    "    ax.annotate(data[i][0], (x[i], y[i]), fontsize=12)\n",
    "    \n",
    "ax.plot([0, 9], [0, 9], color = 'red') # Plot the red line that divides the 2 areas."
   ]
  },
  {
   "cell_type": "markdown",
   "metadata": {},
   "source": [
    "This chart is straightforward to interpret. It shows that emoticons `:)` and `:(` are very important for sentiment analysis. Thus, we should not let preprocessing steps get rid of these symbols!\n",
    "\n",
    "Furthermore, what is the meaning of the crown symbol? It seems to be very negative!\n",
    "\n",
    "That's all for this lab! We've seen how to build a word frequency dictionary and this will come in handy when extracting the features of a list of tweets. Next up, we will be reviewing Logistic Regression. Keep it up!                                                                             "
   ]
  },
  {
   "cell_type": "markdown",
   "metadata": {},
   "source": [
    "# Part 1: Logistic regression \n",
    "\n",
    "\n",
    "### Part 1.1: Sigmoid\n",
    "You will learn to use logistic regression for text classification. \n",
    "* The sigmoid function is defined as: \n",
    "\n",
    "$$ h(z) = \\frac{1}{1+\\exp^{-z}} \\tag{1}$$"
   ]
  },
  {
   "cell_type": "markdown",
   "metadata": {},
   "source": [
    "### Part 1.2 Cost function and Gradient\n",
    "\n",
    "The cost function used for logistic regression is the average of the log loss across all training examples:\n",
    "\n",
    "$$J(\\theta) = -\\frac{1}{m} \\sum_{i=1}^m y^{(i)}\\log (h(z(\\theta)^{(i)})) + (1-y^{(i)})\\log (1-h(z(\\theta)^{(i)}))\\tag{5} $$\n",
    "* $m$ is the number of training examples\n",
    "* $y^{(i)}$ is the actual label of the i-th training example.\n",
    "* $h(z(\\theta)^{(i)})$ is the model's prediction for the i-th training example.\n",
    "\n",
    "The loss function for a single training example is\n",
    "$$ Loss = -1 \\times \\left( y^{(i)}\\log (h(z(\\theta)^{(i)})) + (1-y^{(i)})\\log (1-h(z(\\theta)^{(i)})) \\right)$$\n",
    "\n",
    "* All the $h$ values are between 0 and 1, so the logs will be negative. That is the reason for the factor of -1 applied to the sum of the two loss terms.\n",
    "* Note that when the model predicts 1 ($h(z(\\theta)) = 1$) and the label $y$ is also 1, the loss for that training example is 0. \n",
    "* Similarly, when the model predicts 0 ($h(z(\\theta)) = 0$) and the actual label is also 0, the loss for that training example is 0. \n",
    "* However, when the model prediction is close to 1 ($h(z(\\theta)) = 0.9999$) and the label is 0, the second term of the log loss becomes a large negative number, which is then multiplied by the overall factor of -1 to convert it to a positive loss value. $-1 \\times (1 - 0) \\times log(1 - 0.9999) \\approx 9.2$ The closer the model prediction gets to 1, the larger the loss."
   ]
  },
  {
   "cell_type": "markdown",
   "metadata": {},
   "source": [
    "#### Update the weights\n",
    "\n",
    "To update your weight vector $\\theta$, you will apply gradient descent to iteratively improve your model's predictions.  \n",
    "The gradient of the cost function $J$ with respect to one of the weights $\\theta_j$ is:\n",
    "\n",
    "$$\\nabla_{\\theta_j}J(\\theta) = \\frac{1}{m} \\sum_{i=1}^m(h^{(i)}-y^{(i)})x_j \\tag{5} = \\frac{1}{m}·X^{T}·(sigmoid(X·\\theta - y))$$\n",
    "* 'i' is the index across all 'm' training examples.\n",
    "* 'j' is the index of the weight $\\theta_j$, so $x_j$ is the feature associated with weight $\\theta_j$\n",
    "\n",
    "* To update the weight $\\theta_j$, we adjust it by subtracting a fraction of the gradient determined by $\\alpha$:\n",
    "$$\\theta_j = \\theta_j - \\alpha \\times \\nabla_{\\theta_j}J(\\theta) $$\n",
    "* The learning rate $\\alpha$ is a value that we choose to control how big a single update will be.\n"
   ]
  },
  {
   "cell_type": "markdown",
   "metadata": {},
   "source": [
    "## Instructions: Implement gradient descent function\n",
    "* The number of iterations `num_iters` is the number of times that you'll use the entire training set.\n",
    "* For each iteration, you'll calculate the cost function using all training examples (there are `m` training examples), and for all features.\n",
    "* Instead of updating a single weight $\\theta_i$ at a time, we can update all the weights in the column vector:  \n",
    "$$\\mathbf{\\theta} = \\begin{pmatrix}\n",
    "\\theta_0\n",
    "\\\\\n",
    "\\theta_1\n",
    "\\\\ \n",
    "\\theta_2 \n",
    "\\\\ \n",
    "\\vdots\n",
    "\\\\ \n",
    "\\theta_n\n",
    "\\end{pmatrix}$$\n",
    "* $\\mathbf{\\theta}$ has dimensions (n+1, 1), where 'n' is the number of features, and there is one more element for the bias term $\\theta_0$ (note that the corresponding feature value $\\mathbf{x_0}$ is 1).\n",
    "* The 'logits', 'z', are calculated by multiplying the feature matrix 'x' with the weight vector 'theta'.  $z = \\mathbf{x}\\mathbf{\\theta}$\n",
    "    * $\\mathbf{x}$ has dimensions (m, n+1) \n",
    "    * $\\mathbf{\\theta}$: has dimensions (n+1, 1)\n",
    "    * $\\mathbf{z}$: has dimensions (m, 1)\n",
    "* The prediction 'h', is calculated by applying the sigmoid to each element in 'z': $h(z) = sigmoid(z)$, and has dimensions (m,1).\n",
    "* The cost function $J$ is calculated by taking the dot product of the vectors 'y' and 'log(h)'.  Since both 'y' and 'h' are column vectors (m,1), transpose the vector to the left, so that matrix multiplication of a row vector with column vector performs the dot product.\n",
    "$$J = \\frac{-1}{m} \\times \\left(\\mathbf{y}^T \\cdot log(\\mathbf{h}) + \\mathbf{(1-y)}^T \\cdot log(\\mathbf{1-h}) \\right)$$\n",
    "* The update of theta is also vectorized.  Because the dimensions of $\\mathbf{x}$ are (m, n+1), and both $\\mathbf{h}$ and $\\mathbf{y}$ are (m, 1), we need to transpose the $\\mathbf{x}$ and place it on the left in order to perform matrix multiplication, which then yields the (n+1, 1) answer we need:\n",
    "$$\\mathbf{\\theta} = \\mathbf{\\theta} - \\frac{\\alpha}{m} \\times \\left( \\mathbf{x}^T \\cdot \\left( \\mathbf{h-y} \\right) \\right)$$"
   ]
  },
  {
   "cell_type": "code",
   "execution_count": 27,
   "metadata": {},
   "outputs": [],
   "source": [
    "def sigmoid(z):\n",
    "    return 1 / (1 + np.exp(-z))"
   ]
  },
  {
   "cell_type": "code",
   "execution_count": 28,
   "metadata": {},
   "outputs": [],
   "source": [
    "def gradient(X, y, theta, alpha, num_iters):\n",
    "    \"\"\"gradient update, theta: weights, alpha: leraning ratio\"\"\"\n",
    "    if not isinstance(X, np.ndarray):\n",
    "        X = np.array(X)\n",
    "    if not isinstance(y, np.ndarray):\n",
    "        y = np.array(y)\n",
    "    m = X.shape[0]\n",
    "    for i in range(num_iters):\n",
    "        z = np.dot(X, theta)\n",
    "        h = sigmoid(z)\n",
    "        loss = -1.0 / m * (np.dot(y.T, np.log(h)) + np.dot((1 -y).T, np.log(1 - h)))\n",
    "        theta = theta - (alpha/m) * np.dot(X.T, (h - y))\n",
    "    return float(loss), theta "
   ]
  },
  {
   "cell_type": "code",
   "execution_count": 29,
   "metadata": {},
   "outputs": [],
   "source": [
    "# Check the function\n",
    "# Construct a synthetic test case using numpy PRNG functions\n",
    "np.random.seed(1)\n",
    "# X input is 10 x 3 with ones for the bias terms\n",
    "tmp_X = np.append(np.ones((10, 1)), np.random.rand(10, 2) * 2000, axis=1)\n",
    "# Y Labels are 10 x 1\n",
    "tmp_Y = (np.random.rand(10, 1) > 0.35).astype(float)"
   ]
  },
  {
   "cell_type": "code",
   "execution_count": 30,
   "metadata": {},
   "outputs": [
    {
     "name": "stdout",
     "output_type": "stream",
     "text": [
      "The cost after training is 0.67094970.\n",
      "The resulting vector of weights is [4.1e-07, 0.00035658, 7.309e-05]\n"
     ]
    }
   ],
   "source": [
    "# Apply gradient descent\n",
    "tmp_J, tmp_theta = gradient(tmp_X, tmp_Y, np.zeros((3, 1)), 1e-8, 700)\n",
    "print(f\"The cost after training is {tmp_J:.8f}.\")\n",
    "print(f\"The resulting vector of weights is {[round(t, 8) for t in np.squeeze(tmp_theta)]}\")"
   ]
  },
  {
   "cell_type": "markdown",
   "metadata": {},
   "source": [
    "## Part 2: Extracting the features\n",
    "\n",
    "* Given a list of tweets, extract the features and store them in a matrix. You will extract two features.\n",
    "    * The first feature is the number of positive words in a tweet.\n",
    "    * The second feature is the number of negative words in a tweet. \n",
    "* Then train your logistic regression classifier on these features.\n",
    "* Test the classifier on a validation set. \n",
    "\n",
    "### Instructions: Implement the extract_features function. \n",
    "* This function takes in a single tweet.\n",
    "* Process the tweet using the imported `process_tweet()` function and save the list of tweet words.\n",
    "* Loop through each word in the list of processed words\n",
    "    * For each word, check the `freqs` dictionary for the count when that word has a positive '1' label. (Check for the key (word, 1.0)\n",
    "    * Do the same for the count for when the word is associated with the negative label '0'. (Check for the key (word, 0.0).)\n"
   ]
  },
  {
   "cell_type": "code",
   "execution_count": 31,
   "metadata": {},
   "outputs": [
    {
     "name": "stdout",
     "output_type": "stream",
     "text": [
      "<class 'list'>\n"
     ]
    },
    {
     "data": {
      "text/plain": [
       "'#FollowFriday @France_Inte @PKuchly57 @Milipol_Paris for being top engaged members in my community this week :)'"
      ]
     },
     "execution_count": 31,
     "metadata": {},
     "output_type": "execute_result"
    }
   ],
   "source": [
    "import random \n",
    "train_pos=all_positive_tweets[:4000]\n",
    "test_pos=all_positive_tweets[4000:]\n",
    "train_neg=all_negative_tweets[:4000]\n",
    "test_neg=all_negative_tweets[4000:]\n",
    "\n",
    "\n",
    "train_x=train_pos+train_neg\n",
    "test_x=test_pos+test_neg\n",
    "print(type(train_x))\n",
    "train_x[0]"
   ]
  },
  {
   "cell_type": "code",
   "execution_count": 32,
   "metadata": {},
   "outputs": [
    {
     "name": "stdout",
     "output_type": "stream",
     "text": [
      "train_y.shape = (8000, 1)\n",
      "test_y.shape = (2000, 1)\n"
     ]
    }
   ],
   "source": [
    "train_y=np.append(np.ones((len(train_pos),1)),np.zeros((len(train_neg),1)),axis=0)\n",
    "test_y=np.append(np.ones((len(test_pos),1)),np.zeros((len(test_neg),1)),axis=0)\n",
    "print(\"train_y.shape = \" + str(train_y.shape))\n",
    "print(\"test_y.shape = \" + str(test_y.shape))"
   ]
  },
  {
   "cell_type": "code",
   "execution_count": 33,
   "metadata": {},
   "outputs": [],
   "source": [
    "def extract_features(tweet, freqs):\n",
    "    words = process_tweet(tweet)\n",
    "    x = np.zeros((1, 3))  # [bias, word在pos词表中频率之和, word在neg词表中频率之和]\n",
    "    x[0, 0] = 1 \n",
    "    for word in words:\n",
    "        x[0, 1] += freqs.get((word, 1.0), 0)\n",
    "        x[0, 2] += freqs.get((word, 0.0), 0)\n",
    "    \n",
    "    assert x.shape == (1, 3)\n",
    "    \n",
    "    return x "
   ]
  },
  {
   "cell_type": "code",
   "execution_count": 34,
   "metadata": {},
   "outputs": [
    {
     "name": "stdout",
     "output_type": "stream",
     "text": [
      "[[1.000e+00 3.764e+03 7.200e+01]]\n"
     ]
    }
   ],
   "source": [
    "# Check your function\n",
    "tmp1 = extract_features(train_x[0], freqs)\n",
    "print(tmp1)"
   ]
  },
  {
   "cell_type": "code",
   "execution_count": 35,
   "metadata": {},
   "outputs": [
    {
     "name": "stdout",
     "output_type": "stream",
     "text": [
      "[[1. 0. 0.]]\n"
     ]
    }
   ],
   "source": [
    "# Check for when the words are not in the freqs dictionary\n",
    "tmp2 = extract_features('blorb bleeeeb bloooob', freqs)\n",
    "print(tmp2)"
   ]
  },
  {
   "cell_type": "markdown",
   "metadata": {},
   "source": [
    "## Part 3: Training Your Model\n",
    "\n",
    "To train the model:\n",
    "* Stack the features for all training examples into a matrix `X`. \n",
    "* Call `gradientDescent`, which you've implemented above.\n",
    "\n",
    "This section is given to you.  Please read it for understanding and run the cell."
   ]
  },
  {
   "cell_type": "code",
   "execution_count": 36,
   "metadata": {},
   "outputs": [
    {
     "data": {
      "text/plain": [
       "(8000, 3)"
      ]
     },
     "execution_count": 36,
     "metadata": {},
     "output_type": "execute_result"
    }
   ],
   "source": [
    "# get train data \n",
    "X=np.zeros((len(train_x),3))\n",
    "for i, text in enumerate(train_x):\n",
    "    X[i,:]=extract_features(text,freqs)\n",
    "X.shape "
   ]
  },
  {
   "cell_type": "code",
   "execution_count": 37,
   "metadata": {},
   "outputs": [
    {
     "name": "stdout",
     "output_type": "stream",
     "text": [
      "The cost after training is 0.19513918.\n",
      "The resulting vector of weights is [7e-08, 0.00054223, -0.00054312]\n"
     ]
    }
   ],
   "source": [
    "# train model \n",
    "iters = 1500\n",
    "y = train_y\n",
    "\n",
    "loss, theta = gradient(X, y, np.zeros((3, 1)), 1e-9, iters)\n",
    "print(f\"The cost after training is {loss:.8f}.\")\n",
    "print(f\"The resulting vector of weights is {[round(t, 8) for t in np.squeeze(theta)]}\")"
   ]
  },
  {
   "cell_type": "markdown",
   "metadata": {},
   "source": [
    "# Part 4: Test your logistic regression\n",
    "\n",
    "It is time for you to test your logistic regression function on some new input that your model has not seen before. \n",
    "\n",
    "#### Instructions: Write `predict_tweet`\n",
    "Predict whether a tweet is positive or negative.\n",
    "\n",
    "* Given a tweet, process it, then extract the features.\n",
    "* Apply the model's learned weights on the features to get the logits.\n",
    "* Apply the sigmoid to the logits to get the prediction (a value between 0 and 1).\n",
    "\n",
    "$$y_{pred} = sigmoid(\\mathbf{x} \\cdot \\theta)$$"
   ]
  },
  {
   "cell_type": "code",
   "execution_count": 38,
   "metadata": {},
   "outputs": [],
   "source": [
    "def predict_tweet(tweet, freqs, theta):\n",
    "    x=extract_features(tweet,freqs)\n",
    "    y_pred=sigmoid(np.dot(x,theta))\n",
    "    \n",
    "    return y_pred"
   ]
  },
  {
   "cell_type": "code",
   "execution_count": 39,
   "metadata": {},
   "outputs": [],
   "source": [
    "def sentiment(x):\n",
    "    return str('Good') if x>0.5 else str('Bad')"
   ]
  },
  {
   "cell_type": "code",
   "execution_count": 40,
   "metadata": {},
   "outputs": [
    {
     "name": "stdout",
     "output_type": "stream",
     "text": [
      "I am happy -> 0.5251870395263 -> Good\n",
      "I am bad -> 0.49252876528252276 -> Bad\n",
      "this movie should have been great. -> 0.5201771208275238 -> Good\n",
      "great -> 0.520182403636406 -> Good\n",
      "great great -> 0.5402991290695149 -> Good\n",
      "great great great -> 0.560285386257118 -> Good\n",
      "great great great great -> 0.5800780469453126 -> Good\n"
     ]
    }
   ],
   "source": [
    "for tweet in ['I am happy', 'I am bad', 'this movie should have been great.',\\\n",
    "              'great', 'great great', 'great great great', 'great great great great']:\n",
    "    print( '{} -> {} -> {}' .format(tweet,predict_tweet(tweet,freqs,theta)[0][0] ,sentiment(predict_tweet(tweet, freqs, theta)[0][0])))"
   ]
  },
  {
   "cell_type": "code",
   "execution_count": 41,
   "metadata": {},
   "outputs": [
    {
     "data": {
      "text/plain": [
       "array([[0.87382676]])"
      ]
     },
     "execution_count": 41,
     "metadata": {},
     "output_type": "execute_result"
    }
   ],
   "source": [
    "my_tweet = 'I am learning :)'\n",
    "predict_tweet(my_tweet, freqs, theta)"
   ]
  },
  {
   "cell_type": "markdown",
   "metadata": {},
   "source": [
    "## Check performance using the test set\n",
    "After training your model using the training set above, check how your model might perform on real, unseen data, by testing it against the test set.\n",
    "\n",
    "#### Instructions: Implement `test_logistic_regression` \n",
    "* Given the test data and the weights of your trained model, calculate the accuracy of your logistic regression model. \n",
    "* Use your `predict_tweet()` function to make predictions on each tweet in the test set.\n",
    "* If the prediction is > 0.5, set the model's classification `y_hat` to 1, otherwise set the model's classification `y_hat` to 0.\n",
    "* A prediction is accurate when `y_hat` equals `test_y`.  Sum up all the instances when they are equal and divide by `m`.\n"
   ]
  },
  {
   "cell_type": "code",
   "execution_count": 42,
   "metadata": {},
   "outputs": [],
   "source": [
    "def test_lr(test_x,test_y,freqs,theta):\n",
    "    y_hat=[]\n",
    "    \n",
    "    for tweet in test_x:\n",
    "        y_pred=predict_tweet(tweet,freqs,theta)\n",
    "        y_hat.append(1) if y_pred>0.5 else y_hat.append(0)\n",
    "            \n",
    "    accuracy=(y_hat==np.squeeze(test_y)).sum()/len(test_x)\n",
    "    \n",
    "    return accuracy"
   ]
  },
  {
   "cell_type": "code",
   "execution_count": 43,
   "metadata": {},
   "outputs": [
    {
     "name": "stdout",
     "output_type": "stream",
     "text": [
      "Logistic regression model's accuracy = 0.9965\n"
     ]
    }
   ],
   "source": [
    "tmp_accuracy = test_lr(test_x, test_y, freqs, theta)\n",
    "print(f\"Logistic regression model's accuracy = {tmp_accuracy:.4f}\")"
   ]
  },
  {
   "cell_type": "markdown",
   "metadata": {},
   "source": [
    "## Part 5: Error Analysis\n",
    "\n",
    "In this part you will see some tweets that your model misclassified. Why do you think the misclassifications happened? Specifically what kind of tweets does your model misclassify?"
   ]
  },
  {
   "cell_type": "code",
   "execution_count": 44,
   "metadata": {},
   "outputs": [
    {
     "name": "stdout",
     "output_type": "stream",
     "text": [
      "Label Predicted Tweet\n",
      "THE TWEET IS: @MarkBreech Not sure it would be good thing 4 my bottom daring 2 say 2 Miss B but Im gonna be so stubborn on mouth soaping ! #NotHavingit :p\n",
      "THE PROCESSED TWEET IS: ['sure', 'would', 'good', 'thing', '4', 'bottom', 'dare', '2', 'say', '2', 'miss', 'b', 'im', 'gonna', 'stubborn', 'mouth', 'soap', 'nothavingit', ':p']\n",
      "1\t0.49884893\tb'sure would good thing 4 bottom dare 2 say 2 miss b im gonna stubborn mouth soap nothavingit :p'\n",
      "THE TWEET IS: I'm playing Brain Dots : ) #BrainDots\n",
      "http://t.co/UGQzOx0huu\n",
      "THE PROCESSED TWEET IS: [\"i'm\", 'play', 'brain', 'dot', 'braindot']\n",
      "1\t0.48216235\tb\"i'm play brain dot braindot\"\n",
      "THE TWEET IS: I'm playing Brain Dots : ) #BrainDots http://t.co/aOKldo3GMj http://t.co/xWCM9qyRG5\n",
      "THE PROCESSED TWEET IS: [\"i'm\", 'play', 'brain', 'dot', 'braindot']\n",
      "1\t0.48216235\tb\"i'm play brain dot braindot\"\n",
      "THE TWEET IS: I'm playing Brain Dots : ) #BrainDots http://t.co/R2JBO8iNww http://t.co/ow5BBwdEMY\n",
      "THE PROCESSED TWEET IS: [\"i'm\", 'play', 'brain', 'dot', 'braindot']\n",
      "1\t0.48216235\tb\"i'm play brain dot braindot\"\n",
      "THE TWEET IS: off to the park to get some sunlight : )\n",
      "THE PROCESSED TWEET IS: ['park', 'get', 'sunlight']\n",
      "1\t0.49669397\tb'park get sunlight'\n",
      "THE TWEET IS: @msarosh Uff Itna Miss karhy thy ap :p\n",
      "THE PROCESSED TWEET IS: ['uff', 'itna', 'miss', 'karhi', 'thi', 'ap', ':p']\n",
      "1\t0.48164020\tb'uff itna miss karhi thi ap :p'\n",
      "THE TWEET IS: @phenomyoutube u probs had more fun with david than me : (\n",
      "THE PROCESSED TWEET IS: ['u', 'prob', 'fun', 'david']\n",
      "0\t0.50103355\tb'u prob fun david'\n"
     ]
    }
   ],
   "source": [
    "# Some error analysis done for you\n",
    "print('Label Predicted Tweet')\n",
    "for x,y in zip(test_x,test_y):\n",
    "    y_hat = predict_tweet(x, freqs, theta)\n",
    "\n",
    "    if np.abs(y - (y_hat > 0.5)) > 0:\n",
    "        print('THE TWEET IS:', x)\n",
    "        print('THE PROCESSED TWEET IS:', process_tweet(x))\n",
    "        print('%d\\t%0.8f\\t%s' % (y, y_hat, ' '.join(process_tweet(x)).encode('ascii', 'ignore')))"
   ]
  },
  {
   "cell_type": "markdown",
   "metadata": {},
   "source": [
    "## Part 6: Predict with your own tweet"
   ]
  },
  {
   "cell_type": "code",
   "execution_count": 45,
   "metadata": {},
   "outputs": [
    {
     "name": "stdout",
     "output_type": "stream",
     "text": [
      "['ridicul', 'bright', 'movi', 'plot', 'terribl', 'sad', 'end']\n",
      "[[0.4792259]]\n",
      "Negative sentiment\n"
     ]
    }
   ],
   "source": [
    "# Feel free to change the tweet below\n",
    "my_tweet = 'This is a ridiculously bright movie. The plot was terrible and I was sad until the ending!'\n",
    "print(process_tweet(my_tweet))\n",
    "y_hat = predict_tweet(my_tweet, freqs, theta)\n",
    "print(y_hat)\n",
    "if y_hat > 0.5:\n",
    "    print('Positive sentiment')\n",
    "else: \n",
    "    print('Negative sentiment')"
   ]
  },
  {
   "cell_type": "markdown",
   "metadata": {},
   "source": [
    "## Plot the samples in a scatter plot\n",
    "\n",
    "The vector theta represents a plane that split our feature space into two parts. Samples located over that plane are considered positive, and samples located under that plane are considered negative. Remember that we have a 3D feature space, i.e., each tweet is represented as a vector comprised of three values: `[bias, positive_sum, negative_sum]`, always having `bias = 1`. \n",
    "\n",
    "If we ignore the bias term, we can plot each tweet in a cartesian plane, using `positive_sum` and `negative_sum`. In the cell below, we do precisely this. Additionally, we color each tweet, depending on its class. Positive tweets will be green and negative tweets will be red."
   ]
  },
  {
   "cell_type": "code",
   "execution_count": 46,
   "metadata": {},
   "outputs": [
    {
     "data": {
      "text/plain": [
       "array([[1.],\n",
       "       [1.],\n",
       "       [1.],\n",
       "       ...,\n",
       "       [0.],\n",
       "       [0.],\n",
       "       [0.]])"
      ]
     },
     "execution_count": 46,
     "metadata": {},
     "output_type": "execute_result"
    }
   ],
   "source": [
    "Y = train_y\n",
    "Y"
   ]
  },
  {
   "cell_type": "code",
   "execution_count": 47,
   "metadata": {},
   "outputs": [],
   "source": [
    "theta = [7e-08, 0.00054223, -0.00054312]"
   ]
  },
  {
   "cell_type": "code",
   "execution_count": 48,
   "metadata": {},
   "outputs": [
    {
     "data": {
      "text/plain": [
       "Text(0, 0.5, 'Negative')"
      ]
     },
     "execution_count": 48,
     "metadata": {},
     "output_type": "execute_result"
    },
    {
     "data": {
      "image/png": "[encoded data removed]",
      "text/plain": [
       "<Figure size 576x576 with 1 Axes>"
      ]
     },
     "metadata": {
      "needs_background": "light"
     },
     "output_type": "display_data"
    }
   ],
   "source": [
    "fig, ax=plt.subplots(figsize=(8,8))\n",
    "\n",
    "colors=['red','green']\n",
    "\n",
    "ax.scatter(X[:,1],X[:,2],c=[colors[int(k)] for k in Y],s=0.1)\n",
    "ax.tick_params(direction='in')\n",
    "plt.xlabel(\"Positive\")\n",
    "plt.ylabel(\"Negative\")"
   ]
  },
  {
   "cell_type": "markdown",
   "metadata": {},
   "source": [
    "From the plot, it is evident that the features that we have chosen to represent tweets as numerical vectors allow an almost perfect separation between positive and negative tweets. So you can expect a very high accuracy for this model! \n",
    "\n",
    "## Plot the model alongside the data\n",
    "\n",
    "We will draw a gray line to show the cutoff between the positive and negative regions. In other words, the gray line marks the line where $$ z = \\theta * x = 0.$$\n",
    "To draw this line, we have to solve the above equation in terms of one of the independent variables.\n",
    "\n",
    "$$ z = \\theta * x = 0$$\n",
    "$$ x = [1, pos, neg] $$\n",
    "$$ z(\\theta, x) = \\theta_0+ \\theta_1 * pos + \\theta_2 * neg = 0 $$\n",
    "$$ neg = (-\\theta_0 - \\theta_1 * pos) / \\theta_2 $$\n",
    "\n",
    "The red and green lines that point in the direction of the corresponding sentiment are calculated using a perpendicular line to the separation line calculated in the previous equations(neg function). It must point in the same direction as the derivative of the Logit function, but the magnitude may differ. It is only for a visual representation of the model. \n",
    "\n",
    "$$direction = pos * \\theta_2 / \\theta_1$$"
   ]
  },
  {
   "cell_type": "code",
   "execution_count": 49,
   "metadata": {},
   "outputs": [],
   "source": [
    "def neg(theta,pos):\n",
    "    return (-theta[0]-theta[1]*pos)/theta[2]\n",
    "\n",
    "\n",
    "def direction(theta,pos):\n",
    "    return pos*theta[2]/theta[1]"
   ]
  },
  {
   "cell_type": "markdown",
   "metadata": {},
   "source": [
    "The green line in the chart points in the direction where z > 0 and the red line points in the direction where z < 0. The direction of these lines are given by the weights $\\theta_1$ and $\\theta_2$"
   ]
  },
  {
   "cell_type": "code",
   "execution_count": 50,
   "metadata": {},
   "outputs": [
    {
     "data": {
      "text/plain": [
       "<matplotlib.patches.FancyArrow at 0x7fa8f01c1090>"
      ]
     },
     "execution_count": 50,
     "metadata": {},
     "output_type": "execute_result"
    },
    {
     "data": {
      "image/png": "[encoded data removed]",
      "text/plain": [
       "<Figure size 576x576 with 1 Axes>"
      ]
     },
     "metadata": {
      "needs_background": "light"
     },
     "output_type": "display_data"
    }
   ],
   "source": [
    "fig,ax=plt.subplots(figsize=(8,8))\n",
    "\n",
    "colors=['red','green']\n",
    "\n",
    "ax.scatter(X[:,1],X[:,2],c=[colors[int(k)] for k in Y],s=0.1)\n",
    "ax.tick_params(direction='in')\n",
    "plt.xlabel(\"Positive\")\n",
    "plt.ylabel(\"Negative\")\n",
    "\n",
    "maxpos=np.max(X[:,1])\n",
    "\n",
    "offset=5000\n",
    "\n",
    "ax.plot([0,maxpos], [neg(theta,0),neg(theta, maxpos)], color = 'gray') \n",
    "ax.arrow(offset, neg(theta, offset), offset, direction(theta, offset), head_width=500, head_length=500, fc='g', ec='g')\n",
    "ax.arrow(offset, neg(theta, offset), -offset, -direction(theta, offset), head_width=500, head_length=500, fc='r', ec='r')"
   ]
  },
  {
   "cell_type": "markdown",
   "metadata": {},
   "source": [
    "**Note that more critical than the Logistic regression itself, are the features extracted from tweets that allow getting the right results in this exercise.**\n",
    "\n",
    "That is all, folks. Hopefully, now you understand better what the Logistic regression model represents, and why it works that well for this specific problem. "
   ]
  },
  {
   "cell_type": "code",
   "execution_count": null,
   "metadata": {},
   "outputs": [],
   "source": []
  }
 ],
 "metadata": {
  "kernelspec": {
   "display_name": "Python 3",
   "language": "python",
   "name": "python3"
  },
  "language_info": {
   "codemirror_mode": {
    "name": "ipython",
    "version": 3
   },
   "file_extension": ".py",
   "mimetype": "text/x-python",
   "name": "python",
   "nbconvert_exporter": "python",
   "pygments_lexer": "ipython3",
   "version": "3.7.10"
  }
 },
 "nbformat": 4,
 "nbformat_minor": 4
}
